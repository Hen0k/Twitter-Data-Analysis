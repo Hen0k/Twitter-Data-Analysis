{
 "cells": [
  {
   "cell_type": "markdown",
   "id": "c01dad0a-dda2-4d48-ad9e-b29526496706",
   "metadata": {},
   "source": [
    "# Twitter Data EDA"
   ]
  },
  {
   "cell_type": "markdown",
   "id": "c7d0a457-e0c3-47c1-a038-110f8c08aabd",
   "metadata": {},
   "source": [
    "The data is collected using the following key words\n",
    "\n",
    "- inflation\n",
    "- fuelprice\n",
    "- fuelpricehike\n",
    "-  fuelprices\n",
    "- fuelshortage\n",
    "- foodprice\n",
    "-  oilprice\n",
    "- oilprices\n",
    "- cookingoilprice\n",
    "- unemployment\n",
    "- unemploymentrate\n",
    "- economiccrisis\n",
    "- economichardship\n",
    "\n",
    "---\n",
    "\n",
    "* our goal is to Explore the data for two machine learning tasks\n",
    "1. Topic modeling\n",
    "2. Sentiment Analysis"
   ]
  },
  {
   "cell_type": "markdown",
   "id": "ac55d396-2b15-4cf5-a337-e0a5c34e02d5",
   "metadata": {},
   "source": [
    "## Handle imports"
   ]
  },
  {
   "cell_type": "code",
   "execution_count": 2,
   "id": "11d29f2d-5dae-4052-a822-7bd4a3a5c612",
   "metadata": {},
   "outputs": [
    {
     "name": "stdout",
     "output_type": "stream",
     "text": [
      "/home/hat/dev-env/10Acadamy/week_0/Twitter-Data-Analysis\n"
     ]
    }
   ],
   "source": [
    "%cd ../"
   ]
  },
  {
   "cell_type": "code",
   "execution_count": 3,
   "id": "0a27ac24-92db-4549-ac66-89b0904b40a0",
   "metadata": {},
   "outputs": [],
   "source": [
    "# extrenal modules\n",
    "import matplotlib.pyplot as plt\n",
    "import pandas as pd\n",
    "import numpy as np\n",
    "import os\n",
    "import json\n",
    "# custom modules\n",
    "from clean_tweets_dataframe import Clean_Tweets\n",
    "from extract_dataframe import read_json, TweetDfExtractor\n",
    "\n",
    "%matplotlib inline"
   ]
  },
  {
   "cell_type": "markdown",
   "id": "ec86e410-3184-445e-880a-cfe1076817d7",
   "metadata": {},
   "source": [
    "## Data Acquisition"
   ]
  },
  {
   "cell_type": "markdown",
   "id": "6ab2b2e2-782a-43d6-b3db-13a73efea289",
   "metadata": {},
   "source": [
    "We already have a data transformation module (Data Consistency module) `extract_dataframe`\n",
    "That will be used to Transform the JSON data into a pandas dataframe.\n",
    "If this step is already run, it would simply read a CSV that it cached \n",
    "on the previous run."
   ]
  },
  {
   "cell_type": "code",
   "execution_count": 4,
   "id": "49fff558-891a-45a3-a6f4-9f7c514e35d5",
   "metadata": {},
   "outputs": [
    {
     "name": "stdout",
     "output_type": "stream",
     "text": [
      "shape: (24637, 15)\n",
      "<class 'pandas.core.frame.DataFrame'>\n",
      "RangeIndex: 24637 entries, 0 to 24636\n",
      "Data columns (total 15 columns):\n",
      " #   Column              Non-Null Count  Dtype  \n",
      "---  ------              --------------  -----  \n",
      " 0   created_at          24637 non-null  object \n",
      " 1   source              24633 non-null  object \n",
      " 2   original_text       24633 non-null  object \n",
      " 3   polarity            24625 non-null  object \n",
      " 4   subjectivity        24625 non-null  float64\n",
      " 5   lang                24625 non-null  object \n",
      " 6   favorite_count      24625 non-null  object \n",
      " 7   retweet_count       24625 non-null  float64\n",
      " 8   original_author     24625 non-null  object \n",
      " 9   followers_count     24618 non-null  object \n",
      " 10  friends_count       24625 non-null  object \n",
      " 11  possibly_sensitive  9982 non-null   object \n",
      " 12  hashtags            24624 non-null  object \n",
      " 13  user_mentions       24617 non-null  object \n",
      " 14  place               15724 non-null  object \n",
      "dtypes: float64(2), object(13)\n",
      "memory usage: 2.8+ MB\n",
      "None\n"
     ]
    }
   ],
   "source": [
    "def get_extracted_data() -> pd.DataFrame:\n",
    "    csv_path = 'processed_tweet_data.csv'\n",
    "    if not os.path.exists(csv_path):\n",
    "        data_path = \"data/Economic_Twitter_Data.json\"\n",
    "        tweets_num, tweet_list = read_json(data_path)\n",
    "        print(f\"Oiginal tweets count is {tweets_num}\")\n",
    "        tweet = TweetDfExtractor(tweet_list)\n",
    "        tweet_df = tweet.get_tweet_df(save=True)\n",
    "        \n",
    "    else:\n",
    "        tweet_df = pd.read_csv(csv_path)\n",
    "    print(f\"shape: {tweet_df.shape}\")\n",
    "    print(tweet_df.info())\n",
    "    return tweet_df\n",
    "\n",
    "\n",
    "tweet_df = get_extracted_data()"
   ]
  },
  {
   "cell_type": "markdown",
   "id": "2ac36be5-60dd-4887-967f-70fec52dd277",
   "metadata": {},
   "source": [
    "* As we can see, there are lots of missing values and columns with the wrong datatypes. We have the Clean_Tweets class to handle this for us. "
   ]
  },
  {
   "cell_type": "code",
   "execution_count": 5,
   "id": "3b2ec7b1-5efd-4f2f-abf1-436e7400d403",
   "metadata": {},
   "outputs": [
    {
     "data": {
      "text/html": [
       "<div>\n",
       "<style scoped>\n",
       "    .dataframe tbody tr th:only-of-type {\n",
       "        vertical-align: middle;\n",
       "    }\n",
       "\n",
       "    .dataframe tbody tr th {\n",
       "        vertical-align: top;\n",
       "    }\n",
       "\n",
       "    .dataframe thead th {\n",
       "        text-align: right;\n",
       "    }\n",
       "</style>\n",
       "<table border=\"1\" class=\"dataframe\">\n",
       "  <thead>\n",
       "    <tr style=\"text-align: right;\">\n",
       "      <th></th>\n",
       "      <th>created_at</th>\n",
       "      <th>source</th>\n",
       "      <th>original_text</th>\n",
       "      <th>polarity</th>\n",
       "      <th>subjectivity</th>\n",
       "      <th>lang</th>\n",
       "      <th>favorite_count</th>\n",
       "      <th>retweet_count</th>\n",
       "      <th>original_author</th>\n",
       "      <th>followers_count</th>\n",
       "      <th>friends_count</th>\n",
       "      <th>possibly_sensitive</th>\n",
       "      <th>hashtags</th>\n",
       "      <th>user_mentions</th>\n",
       "      <th>place</th>\n",
       "    </tr>\n",
       "  </thead>\n",
       "  <tbody>\n",
       "    <tr>\n",
       "      <th>0</th>\n",
       "      <td>Fri Apr 22 22:20:18 +0000 2022</td>\n",
       "      <td>Twitter for Android</td>\n",
       "      <td>RT @nikitheblogger: Irre: Annalena Baerbock sa...</td>\n",
       "      <td>0.0</td>\n",
       "      <td>0.0</td>\n",
       "      <td>de</td>\n",
       "      <td>0</td>\n",
       "      <td>355.0</td>\n",
       "      <td>McMc74078966</td>\n",
       "      <td>3</td>\n",
       "      <td>12</td>\n",
       "      <td>NaN</td>\n",
       "      <td>[]</td>\n",
       "      <td>['nikitheblogger']</td>\n",
       "      <td>NaN</td>\n",
       "    </tr>\n",
       "    <tr>\n",
       "      <th>1</th>\n",
       "      <td>Fri Apr 22 22:19:16 +0000 2022</td>\n",
       "      <td>Twitter for Android</td>\n",
       "      <td>RT @sagt_mit: Merkel schaffte es in 1 Jahr 1 M...</td>\n",
       "      <td>0.0</td>\n",
       "      <td>0.0</td>\n",
       "      <td>de</td>\n",
       "      <td>0</td>\n",
       "      <td>505.0</td>\n",
       "      <td>McMc74078966</td>\n",
       "      <td>3</td>\n",
       "      <td>12</td>\n",
       "      <td>NaN</td>\n",
       "      <td>[]</td>\n",
       "      <td>['sagt_mit']</td>\n",
       "      <td>NaN</td>\n",
       "    </tr>\n",
       "    <tr>\n",
       "      <th>2</th>\n",
       "      <td>Fri Apr 22 22:17:28 +0000 2022</td>\n",
       "      <td>Twitter for Android</td>\n",
       "      <td>RT @Kryptonoun: @WRi007 Pharma in Lebensmittel...</td>\n",
       "      <td>0.0</td>\n",
       "      <td>0.0</td>\n",
       "      <td>de</td>\n",
       "      <td>0</td>\n",
       "      <td>4.0</td>\n",
       "      <td>McMc74078966</td>\n",
       "      <td>3</td>\n",
       "      <td>12</td>\n",
       "      <td>NaN</td>\n",
       "      <td>[]</td>\n",
       "      <td>['Kryptonoun', 'WRi007']</td>\n",
       "      <td>NaN</td>\n",
       "    </tr>\n",
       "    <tr>\n",
       "      <th>3</th>\n",
       "      <td>Fri Apr 22 22:17:20 +0000 2022</td>\n",
       "      <td>Twitter for Android</td>\n",
       "      <td>RT @WRi007: Die #Deutschen sind ein braves Vol...</td>\n",
       "      <td>0.0</td>\n",
       "      <td>0.0</td>\n",
       "      <td>de</td>\n",
       "      <td>0</td>\n",
       "      <td>332.0</td>\n",
       "      <td>McMc74078966</td>\n",
       "      <td>3</td>\n",
       "      <td>12</td>\n",
       "      <td>NaN</td>\n",
       "      <td>['Deutschen', 'Spritpreisen', 'inflation', 'Ab...</td>\n",
       "      <td>['WRi007']</td>\n",
       "      <td>NaN</td>\n",
       "    </tr>\n",
       "    <tr>\n",
       "      <th>4</th>\n",
       "      <td>Fri Apr 22 22:13:15 +0000 2022</td>\n",
       "      <td>Twitter for Android</td>\n",
       "      <td>RT @RolandTichy: Baerbock verkündet mal so neb...</td>\n",
       "      <td>0.0</td>\n",
       "      <td>0.0</td>\n",
       "      <td>de</td>\n",
       "      <td>0</td>\n",
       "      <td>386.0</td>\n",
       "      <td>McMc74078966</td>\n",
       "      <td>3</td>\n",
       "      <td>12</td>\n",
       "      <td>NaN</td>\n",
       "      <td>[]</td>\n",
       "      <td>['RolandTichy']</td>\n",
       "      <td>NaN</td>\n",
       "    </tr>\n",
       "  </tbody>\n",
       "</table>\n",
       "</div>"
      ],
      "text/plain": [
       "                       created_at               source  \\\n",
       "0  Fri Apr 22 22:20:18 +0000 2022  Twitter for Android   \n",
       "1  Fri Apr 22 22:19:16 +0000 2022  Twitter for Android   \n",
       "2  Fri Apr 22 22:17:28 +0000 2022  Twitter for Android   \n",
       "3  Fri Apr 22 22:17:20 +0000 2022  Twitter for Android   \n",
       "4  Fri Apr 22 22:13:15 +0000 2022  Twitter for Android   \n",
       "\n",
       "                                       original_text polarity  subjectivity  \\\n",
       "0  RT @nikitheblogger: Irre: Annalena Baerbock sa...      0.0           0.0   \n",
       "1  RT @sagt_mit: Merkel schaffte es in 1 Jahr 1 M...      0.0           0.0   \n",
       "2  RT @Kryptonoun: @WRi007 Pharma in Lebensmittel...      0.0           0.0   \n",
       "3  RT @WRi007: Die #Deutschen sind ein braves Vol...      0.0           0.0   \n",
       "4  RT @RolandTichy: Baerbock verkündet mal so neb...      0.0           0.0   \n",
       "\n",
       "  lang favorite_count  retweet_count original_author followers_count  \\\n",
       "0   de              0          355.0    McMc74078966               3   \n",
       "1   de              0          505.0    McMc74078966               3   \n",
       "2   de              0            4.0    McMc74078966               3   \n",
       "3   de              0          332.0    McMc74078966               3   \n",
       "4   de              0          386.0    McMc74078966               3   \n",
       "\n",
       "  friends_count possibly_sensitive  \\\n",
       "0            12                NaN   \n",
       "1            12                NaN   \n",
       "2            12                NaN   \n",
       "3            12                NaN   \n",
       "4            12                NaN   \n",
       "\n",
       "                                            hashtags  \\\n",
       "0                                                 []   \n",
       "1                                                 []   \n",
       "2                                                 []   \n",
       "3  ['Deutschen', 'Spritpreisen', 'inflation', 'Ab...   \n",
       "4                                                 []   \n",
       "\n",
       "              user_mentions place  \n",
       "0        ['nikitheblogger']   NaN  \n",
       "1              ['sagt_mit']   NaN  \n",
       "2  ['Kryptonoun', 'WRi007']   NaN  \n",
       "3                ['WRi007']   NaN  \n",
       "4           ['RolandTichy']   NaN  "
      ]
     },
     "execution_count": 5,
     "metadata": {},
     "output_type": "execute_result"
    }
   ],
   "source": [
    "tweet_df.head()"
   ]
  },
  {
   "cell_type": "markdown",
   "id": "923d4844-d8c1-40ce-b4a8-5b297a54bed2",
   "metadata": {},
   "source": [
    "### Missing entries"
   ]
  },
  {
   "cell_type": "markdown",
   "id": "158da9da-a1c9-4fff-abfc-3efb03de5040",
   "metadata": {},
   "source": [
    "- Count total missing value\n",
    "- See which columns have missing values\n",
    "- Plot the number of missing values in columns"
   ]
  },
  {
   "cell_type": "code",
   "execution_count": 13,
   "id": "fb52f45c-4f72-4b88-bb6a-87c9ec17e334",
   "metadata": {},
   "outputs": [
    {
     "name": "stdout",
     "output_type": "stream",
     "text": [
      "Missing value(s) count: \n",
      "created_at                0\n",
      "source                    4\n",
      "original_text             4\n",
      "polarity                 12\n",
      "subjectivity             12\n",
      "lang                     12\n",
      "favorite_count           12\n",
      "retweet_count            12\n",
      "original_author          12\n",
      "followers_count          19\n",
      "friends_count            12\n",
      "possibly_sensitive    14655\n",
      "hashtags                 13\n",
      "user_mentions            20\n",
      "place                  8913\n",
      "dtype: int64\n",
      "Columns having missing value(s): Index(['source', 'original_text', 'polarity', 'subjectivity', 'lang',\n",
      "       'favorite_count', 'retweet_count', 'original_author', 'followers_count',\n",
      "       'friends_count', 'possibly_sensitive', 'hashtags', 'user_mentions',\n",
      "       'place'],\n",
      "      dtype='object')\n"
     ]
    }
   ],
   "source": [
    "missing_count = tweet_df.isnull().sum()\n",
    "cols_with_missing = tweet_df.columns[tweet_df.isnull().any()]\n",
    "\n",
    "print(f\"Missing value(s) count: \\n{missing_count}\")\n",
    "print(f\"Columns having missing value(s): {cols_with_missing}\")"
   ]
  },
  {
   "cell_type": "code",
   "execution_count": 17,
   "id": "0b06c0be-715a-43e1-a223-4e5aba8d840a",
   "metadata": {},
   "outputs": [
    {
     "data": {
      "text/plain": [
       "<AxesSubplot:>"
      ]
     },
     "execution_count": 17,
     "metadata": {},
     "output_type": "execute_result"
    },
    {
     "data": {
      "image/png": "[encoded data removed]",
      "text/plain": [
       "<Figure size 432x288 with 1 Axes>"
      ]
     },
     "metadata": {
      "needs_background": "light"
     },
     "output_type": "display_data"
    }
   ],
   "source": [
    "missing_count.plot(kind='bar')"
   ]
  },
  {
   "cell_type": "code",
   "execution_count": 23,
   "id": "492206d8-41e8-49f2-a8c5-e2b86056e620",
   "metadata": {},
   "outputs": [
    {
     "data": {
      "text/plain": [
       "(15289, 15)"
      ]
     },
     "execution_count": 23,
     "metadata": {},
     "output_type": "execute_result"
    }
   ],
   "source": [
    "tweet_df[tweet_df['polarity'] == '0.0'].shape"
   ]
  },
  {
   "cell_type": "code",
   "execution_count": null,
   "id": "f184327a-dcb6-4bf8-8f9b-bd66e0398bf6",
   "metadata": {
    "tags": []
   },
   "outputs": [],
   "source": [
    "cleaner = Clean_Tweets(tweet_df)\n",
    "# cleaner.run_pipeline()\n",
    "print(cleaner.df.info())"
   ]
  },
  {
   "cell_type": "code",
   "execution_count": null,
   "id": "adf9907d-cb54-4bd9-9db1-4eebc51abddf",
   "metadata": {
    "tags": []
   },
   "outputs": [],
   "source": [
    "cleaner.df.head()"
   ]
  },
  {
   "cell_type": "code",
   "execution_count": null,
   "id": "129b7fb7-4e28-4fa7-af55-f9df0a5c0ec1",
   "metadata": {},
   "outputs": [],
   "source": [
    "cleaned_df = cleaner.df"
   ]
  },
  {
   "cell_type": "code",
   "execution_count": null,
   "id": "73adbfc1-db3a-4ce7-a052-5f6cbab5af42",
   "metadata": {},
   "outputs": [],
   "source": [
    "cleaned_df.sort_values('created_at', ascending=True, inplace=True, ignore_index=True)\n",
    "cleaned_df.loc[0, 'created_at'], cleaned_df.loc[len(cleaned_df)-1, 'created_at']"
   ]
  },
  {
   "cell_type": "markdown",
   "id": "962b2067-9ebe-441a-8cac-9795051a229f",
   "metadata": {},
   "source": [
    "The timeline for the data we have is between 07-Jan-2021 upto 22-Apr-2022"
   ]
  },
  {
   "cell_type": "markdown",
   "id": "f9756a27-7420-46ba-8b6c-f1033f0ff12d",
   "metadata": {},
   "source": [
    "### ratio of android vs iphone users"
   ]
  },
  {
   "cell_type": "code",
   "execution_count": null,
   "id": "6f0b0046-79a7-44ae-b465-fd98593c0a4e",
   "metadata": {},
   "outputs": [],
   "source": [
    "# tweet_df.plot(kind='bar', y='polarity')"
   ]
  },
  {
   "cell_type": "code",
   "execution_count": null,
   "id": "2fb1f016-2a0b-4832-bfc3-dcdf95587db9",
   "metadata": {
    "tags": []
   },
   "outputs": [],
   "source": [
    "from collections import Counter\n",
    "sources = {**Counter(tweet_df.source.values.tolist())}\n",
    "fig = plt.figure(figsize=(25, 10))\n",
    "plt.xticks(rotation=90, fontsize=15)\n",
    "plt.bar(sources.keys(), sources.values())"
   ]
  },
  {
   "cell_type": "code",
   "execution_count": null,
   "id": "d13acdd6-3627-41c7-a4cd-665d726e325d",
   "metadata": {},
   "outputs": [],
   "source": [
    "# sources_df = pd.DataFrame({**sources}, index=range(len(sources)))\n",
    "# sources_df.plot(kind=\"bar\")"
   ]
  },
  {
   "cell_type": "code",
   "execution_count": null,
   "id": "70ec3794-55b8-44d7-ac8d-172a7426d158",
   "metadata": {},
   "outputs": [],
   "source": []
  }
 ],
 "metadata": {
  "kernelspec": {
   "display_name": "Python 3 (ipykernel)",
   "language": "python",
   "name": "python3"
  },
  "language_info": {
   "codemirror_mode": {
    "name": "ipython",
    "version": 3
   },
   "file_extension": ".py",
   "mimetype": "text/x-python",
   "name": "python",
   "nbconvert_exporter": "python",
   "pygments_lexer": "ipython3",
   "version": "3.8.10"
  }
 },
 "nbformat": 4,
 "nbformat_minor": 5
}
