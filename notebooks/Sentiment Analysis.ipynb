{
 "cells": [
  {
   "cell_type": "markdown",
   "id": "719c95ae-43e6-4861-9015-18600789bbef",
   "metadata": {},
   "source": [
    "# Sentiment Analysis"
   ]
  },
  {
   "cell_type": "markdown",
   "id": "6a7e86d1-25f4-41bc-9f00-b2be8a365810",
   "metadata": {},
   "source": [
    "## Imports"
   ]
  },
  {
   "cell_type": "code",
   "execution_count": 2,
   "id": "8f4515c2-6e40-444b-b05a-92ea202d3d5e",
   "metadata": {},
   "outputs": [
    {
     "ename": "ImportError",
     "evalue": "cannot import name 'Perceptron' from 'sklearn.naive_bayes' (/home/hat/dev-env/10Acadamy/week_0/Twitter-Data-Analysis/.env/lib/python3.10/site-packages/sklearn/naive_bayes.py)",
     "output_type": "error",
     "traceback": [
      "\u001b[0;31m---------------------------------------------------------------------------\u001b[0m",
      "\u001b[0;31mImportError\u001b[0m                               Traceback (most recent call last)",
      "Input \u001b[0;32mIn [2]\u001b[0m, in \u001b[0;36m<cell line: 10>\u001b[0;34m()\u001b[0m\n\u001b[1;32m      8\u001b[0m \u001b[38;5;28;01mfrom\u001b[39;00m \u001b[38;5;21;01msklearn\u001b[39;00m\u001b[38;5;21;01m.\u001b[39;00m\u001b[38;5;21;01mlinear_model\u001b[39;00m \u001b[38;5;28;01mimport\u001b[39;00m SGDClassifier\n\u001b[1;32m      9\u001b[0m \u001b[38;5;28;01mfrom\u001b[39;00m \u001b[38;5;21;01msklearn\u001b[39;00m\u001b[38;5;21;01m.\u001b[39;00m\u001b[38;5;21;01mnaive_bayes\u001b[39;00m \u001b[38;5;28;01mimport\u001b[39;00m MultinomialNB\n\u001b[0;32m---> 10\u001b[0m \u001b[38;5;28;01mfrom\u001b[39;00m \u001b[38;5;21;01msklearn\u001b[39;00m\u001b[38;5;21;01m.\u001b[39;00m\u001b[38;5;21;01mnaive_bayes\u001b[39;00m \u001b[38;5;28;01mimport\u001b[39;00m Perceptron\n\u001b[1;32m     12\u001b[0m \u001b[38;5;28;01mfrom\u001b[39;00m \u001b[38;5;21;01msklearn\u001b[39;00m\u001b[38;5;21;01m.\u001b[39;00m\u001b[38;5;21;01mmodel_selection\u001b[39;00m \u001b[38;5;28;01mimport\u001b[39;00m train_test_split\n\u001b[1;32m     13\u001b[0m \u001b[38;5;28;01mfrom\u001b[39;00m \u001b[38;5;21;01msklearn\u001b[39;00m\u001b[38;5;21;01m.\u001b[39;00m\u001b[38;5;21;01mmetrics\u001b[39;00m \u001b[38;5;28;01mimport\u001b[39;00m precision_score, recall_score, accuracy_score\n",
      "\u001b[0;31mImportError\u001b[0m: cannot import name 'Perceptron' from 'sklearn.naive_bayes' (/home/hat/dev-env/10Acadamy/week_0/Twitter-Data-Analysis/.env/lib/python3.10/site-packages/sklearn/naive_bayes.py)"
     ]
    }
   ],
   "source": [
    "import sys\n",
    "import os\n",
    "import pandas as pd\n",
    "\n",
    "from sklearn.feature_extraction.text import CountVectorizer\n",
    "from sklearn.feature_extraction.text import TfidfTransformer\n",
    "\n",
    "from sklearn.linear_model import SGDClassifier\n",
    "from sklearn.naive_bayes import MultinomialNB\n",
    "from sklearn.naive_bayes import Perceptron\n",
    "\n",
    "from sklearn.model_selection import train_test_split\n",
    "from sklearn.metrics import precision_score, recall_score, accuracy_score"
   ]
  },
  {
   "cell_type": "markdown",
   "id": "0c913d2d-37b1-4845-ae1f-f6c1a176175c",
   "metadata": {},
   "source": [
    "We need some code that is inside the parent directory of where we are. Inorder for import to work I will add the\n",
    "parent directory to the system path"
   ]
  },
  {
   "cell_type": "code",
   "execution_count": 3,
   "id": "aba1b9a5-ca61-4fc1-9501-80d42048741a",
   "metadata": {
    "tags": []
   },
   "outputs": [
    {
     "data": {
      "text/plain": [
       "'/home/hat/dev-env/10Acadamy/week_0/Twitter-Data-Analysis/notebooks'"
      ]
     },
     "execution_count": 3,
     "metadata": {},
     "output_type": "execute_result"
    }
   ],
   "source": [
    "os.getcwd()"
   ]
  },
  {
   "cell_type": "code",
   "execution_count": 4,
   "id": "a9b67c05-4dbb-4475-a7b5-3ec221e39fae",
   "metadata": {},
   "outputs": [],
   "source": [
    "cwd = os.getcwd()\n",
    "parent = cwd.replace('/notebooks', '')\n",
    "sys.path.insert(0, parent) "
   ]
  },
  {
   "cell_type": "code",
   "execution_count": 5,
   "id": "f0925bb2-7916-49f9-8dc0-34e455b1ae22",
   "metadata": {},
   "outputs": [],
   "source": [
    "from extract_dataframe import read_json\n",
    "from extract_dataframe import TweetDfExtractor\n",
    "from clean_tweets_dataframe import CleanTweets\n",
    "from tweets_preprocess import SADataPreparation\n",
    "from utils import DataLoader"
   ]
  },
  {
   "cell_type": "markdown",
   "id": "9b5bb656-369f-480c-baf5-22970b5d5986",
   "metadata": {},
   "source": [
    "## Data Preparation"
   ]
  },
  {
   "cell_type": "markdown",
   "id": "9507a793-0e1a-4f84-8b82-b33fc8f3576f",
   "metadata": {},
   "source": [
    "Here, what we have are tweets. I will be considering each tweet as a document.\n",
    "Let's follow the following steps:\n",
    "- Read the cached CSV\n",
    "- Use the `SADataPreparation` class to prepare the data"
   ]
  },
  {
   "cell_type": "code",
   "execution_count": 5,
   "id": "384cade8-e734-4fe0-a6c3-597bcc7728ea",
   "metadata": {},
   "outputs": [
    {
     "name": "stdout",
     "output_type": "stream",
     "text": [
      "(24637, 15)\n",
      "Index(['created_at', 'source', 'original_text', 'polarity', 'subjectivity',\n",
      "       'lang', 'favorite_count', 'retweet_count', 'original_author',\n",
      "       'followers_count', 'friends_count', 'possibly_sensitive', 'hashtags',\n",
      "       'user_mentions', 'place'],\n",
      "      dtype='object')\n",
      "<class 'pandas.core.frame.DataFrame'>\n",
      "RangeIndex: 24637 entries, 0 to 24636\n",
      "Data columns (total 15 columns):\n",
      " #   Column              Non-Null Count  Dtype  \n",
      "---  ------              --------------  -----  \n",
      " 0   created_at          24637 non-null  object \n",
      " 1   source              24633 non-null  object \n",
      " 2   original_text       24633 non-null  object \n",
      " 3   polarity            24625 non-null  object \n",
      " 4   subjectivity        24625 non-null  float64\n",
      " 5   lang                24625 non-null  object \n",
      " 6   favorite_count      24625 non-null  object \n",
      " 7   retweet_count       24625 non-null  float64\n",
      " 8   original_author     24625 non-null  object \n",
      " 9   followers_count     24618 non-null  object \n",
      " 10  friends_count       24625 non-null  object \n",
      " 11  possibly_sensitive  9982 non-null   object \n",
      " 12  hashtags            24624 non-null  object \n",
      " 13  user_mentions       24617 non-null  object \n",
      " 14  place               15724 non-null  object \n",
      "dtypes: float64(2), object(13)\n",
      "memory usage: 2.8+ MB\n",
      "None\n"
     ]
    }
   ],
   "source": [
    "filename = 'processed_tweet_data.csv'\n",
    "loader = DataLoader('../', filename)\n",
    "df = loader.read_csv()\n",
    "# print(df.shape)\n",
    "# print(df.columns)\n",
    "# print(df.info())"
   ]
  },
  {
   "cell_type": "markdown",
   "id": "83efaa0a-5c4d-487b-a2a0-154da2d8a85a",
   "metadata": {},
   "source": [
    "## Data Cleaner"
   ]
  },
  {
   "cell_type": "markdown",
   "id": "dc30a499-efb8-4f98-a880-9e78e0f6c864",
   "metadata": {},
   "source": [
    "We have imported the `CleanTweets` class for this task. We will use the `run_pipeline` method to automate the cleaning"
   ]
  },
  {
   "cell_type": "code",
   "execution_count": 6,
   "id": "3b46cb63-58ea-4e92-861d-9c2a43fdc077",
   "metadata": {},
   "outputs": [
    {
     "name": "stdout",
     "output_type": "stream",
     "text": [
      "Automation in Action...!!!\n",
      "<class 'pandas.core.frame.DataFrame'>\n",
      "RangeIndex: 10664 entries, 0 to 10663\n",
      "Data columns (total 15 columns):\n",
      " #   Column              Non-Null Count  Dtype              \n",
      "---  ------              --------------  -----              \n",
      " 0   created_at          10664 non-null  datetime64[ns, UTC]\n",
      " 1   source              10664 non-null  object             \n",
      " 2   clean_text          10664 non-null  object             \n",
      " 3   polarity            10664 non-null  float64            \n",
      " 4   subjectivity        10664 non-null  float64            \n",
      " 5   lang                10664 non-null  object             \n",
      " 6   favorite_count      10664 non-null  int64              \n",
      " 7   retweet_count       10664 non-null  float64            \n",
      " 8   original_author     10664 non-null  object             \n",
      " 9   followers_count     10664 non-null  int64              \n",
      " 10  friends_count       10664 non-null  int64              \n",
      " 11  possibly_sensitive  10664 non-null  object             \n",
      " 12  hashtags            10664 non-null  object             \n",
      " 13  user_mentions       10664 non-null  object             \n",
      " 14  place               10664 non-null  object             \n",
      "dtypes: datetime64[ns, UTC](1), float64(3), int64(3), object(8)\n",
      "memory usage: 1.2+ MB\n"
     ]
    }
   ],
   "source": [
    "cleaner = CleanTweets()\n",
    "cleaned_df = cleaner.run_pipeline(df, save_csv=True)\n",
    "# cleaned_df.info()"
   ]
  },
  {
   "cell_type": "markdown",
   "id": "9f5c6e61-862f-40f5-9b33-6905fb76b008",
   "metadata": {},
   "source": [
    "## Data Preparation"
   ]
  },
  {
   "cell_type": "markdown",
   "id": "8245f04c-ad2c-4c3a-b573-826ca7e18ba5",
   "metadata": {},
   "source": [
    "The data needs to be in an X ---> Y format.\n",
    "The X would be the clean_text and Y would be a label calculated \n",
    "from polarity and subjectivity\n",
    "\n",
    "This is exactly what the `SADataPreparation` class will do for us.\n"
   ]
  },
  {
   "cell_type": "code",
   "execution_count": 7,
   "id": "f1be06e7-f704-44a6-bb2e-14795a9d79c2",
   "metadata": {},
   "outputs": [
    {
     "name": "stdout",
     "output_type": "stream",
     "text": [
      "Pre-Processing the Tweets\n"
     ]
    },
    {
     "data": {
      "text/plain": [
       "(9064, 1600, 9064, 1600)"
      ]
     },
     "execution_count": 7,
     "metadata": {},
     "output_type": "execute_result"
    }
   ],
   "source": [
    "# Get the train test split of the labeled data \n",
    "X_train, X_test, y_train, y_test = SADataPreparation().prepare_features(cleaned_df)\n",
    "len(X_train), len(y_train), len(X_test), len(y_test)"
   ]
  },
  {
   "cell_type": "markdown",
   "id": "53362652-d921-46a5-8a05-cb13ed24eadb",
   "metadata": {},
   "source": [
    "After getting the labled data we will vectorize it in a way a model would understand. Here I will use a Count vector and a Term-Frequnecy Inverse-Document-Frequency of our data and see which is better for the task. I will also be using both a unigram and "
   ]
  },
  {
   "cell_type": "code",
   "execution_count": 8,
   "id": "8876344b-5cbc-4103-b20f-0afcff0886b8",
   "metadata": {},
   "outputs": [
    {
     "data": {
      "text/plain": [
       "(9064, 21385)"
      ]
     },
     "execution_count": 8,
     "metadata": {},
     "output_type": "execute_result"
    }
   ],
   "source": [
    "count_vect = CountVectorizer()\n",
    "X_train_counts = count_vect.fit_transform(X_train)\n",
    "X_train_counts.shape"
   ]
  },
  {
   "cell_type": "code",
   "execution_count": 9,
   "id": "3aa75215-7415-4653-9269-8ddba39f9a0d",
   "metadata": {},
   "outputs": [
    {
     "data": {
      "text/plain": [
       "583"
      ]
     },
     "execution_count": 9,
     "metadata": {},
     "output_type": "execute_result"
    }
   ],
   "source": [
    "count_vect.vocabulary_.get(u'algorithm')"
   ]
  },
  {
   "cell_type": "code",
   "execution_count": 10,
   "id": "ebf9b4d1-5168-474f-ac89-a582797eaf9d",
   "metadata": {},
   "outputs": [
    {
     "data": {
      "text/plain": [
       "(9064, 21385)"
      ]
     },
     "execution_count": 10,
     "metadata": {},
     "output_type": "execute_result"
    }
   ],
   "source": [
    "# term freq\n",
    "tf_transformer = TfidfTransformer(use_idf=False).fit(X_train_counts)\n",
    "X_train_tf = tf_transformer.transform(X_train_counts)\n",
    "X_train_tf.shape"
   ]
  },
  {
   "cell_type": "code",
   "execution_count": 11,
   "id": "d8ef561b-164e-4722-bea2-d962bdeee077",
   "metadata": {},
   "outputs": [
    {
     "data": {
      "text/plain": [
       "(9064, 21385)"
      ]
     },
     "execution_count": 11,
     "metadata": {},
     "output_type": "execute_result"
    }
   ],
   "source": [
    "# term freq inverse document freq\n",
    "tfidf_transformer = TfidfTransformer()\n",
    "X_train_tfidf = tfidf_transformer.fit_transform(X_train_counts)\n",
    "X_train_tfidf.shape"
   ]
  },
  {
   "cell_type": "code",
   "execution_count": 12,
   "id": "318778d8-d139-46e5-865e-74bd18ab6742",
   "metadata": {},
   "outputs": [],
   "source": [
    "clf = MultinomialNB().fit(X_train_tfidf, y_train)\n"
   ]
  },
  {
   "cell_type": "code",
   "execution_count": 13,
   "id": "edf9c194-2dc8-49e3-a9bb-1ecc7f8fc407",
   "metadata": {},
   "outputs": [
    {
     "name": "stdout",
     "output_type": "stream",
     "text": [
      "'God is love' => Nu\n",
      "'OpenGL on the GPU is fast' => Nu\n",
      "'I hate killing bugs' => P\n"
     ]
    }
   ],
   "source": [
    "new_docs = ['God is love', 'OpenGL on the GPU is fast', 'I hate killing bugs']\n",
    "X_new_counts = count_vect.transform(new_docs)\n",
    "X_new_tfidf = tfidf_transformer.transform(X_new_counts)\n",
    "\n",
    "predicted = clf.predict(X_new_tfidf)\n",
    "\n",
    "for doc, category in zip(new_docs, predicted):\n",
    "    print('%r => %s' % (doc, [\"N\", \"Nu\", \"P\"][category]))"
   ]
  },
  {
   "cell_type": "code",
   "execution_count": 14,
   "id": "e8b86d45-c5ed-4537-b54e-7ceb6ecd565a",
   "metadata": {},
   "outputs": [
    {
     "data": {
      "text/plain": [
       "Pipeline(steps=[('vect', CountVectorizer()), ('tfidf', TfidfTransformer()),\n",
       "                ('clf', MultinomialNB())])"
      ]
     },
     "execution_count": 14,
     "metadata": {},
     "output_type": "execute_result"
    }
   ],
   "source": [
    "from sklearn.pipeline import Pipeline\n",
    "text_clf = Pipeline([\n",
    "    ('vect', CountVectorizer()),\n",
    "    ('tfidf', TfidfTransformer()),\n",
    "    ('clf', MultinomialNB()),\n",
    "])\n",
    "text_clf.fit(X_train, y_train)"
   ]
  },
  {
   "cell_type": "code",
   "execution_count": 15,
   "id": "0b9eaaea-6377-432b-86da-cf876522996f",
   "metadata": {},
   "outputs": [
    {
     "data": {
      "text/plain": [
       "0.689375"
      ]
     },
     "execution_count": 15,
     "metadata": {},
     "output_type": "execute_result"
    }
   ],
   "source": [
    "import numpy as np\n",
    "predicted = text_clf.predict(X_test)\n",
    "np.mean(predicted == y_test)"
   ]
  },
  {
   "cell_type": "code",
   "execution_count": 24,
   "id": "5a6b6323-277f-48e9-8fe6-e9944bdcec55",
   "metadata": {},
   "outputs": [
    {
     "data": {
      "text/plain": [
       "0.82375"
      ]
     },
     "execution_count": 24,
     "metadata": {},
     "output_type": "execute_result"
    }
   ],
   "source": [
    "from sklearn.linear_model import SGDClassifier, Perceptron\n",
    "text_clf = Pipeline([\n",
    "    ('vect', CountVectorizer()),\n",
    "    ('tfidf', TfidfTransformer()),\n",
    "    ('clf', SGDClassifier(loss='hinge', penalty='l2',\n",
    "                          alpha=1e-4, random_state=4,\n",
    "                          max_iter=5, tol=None)),\n",
    "])\n",
    "\n",
    "text_clf.fit(X_train, y_train)\n",
    "\n",
    "predicted = text_clf.predict(X_test)\n",
    "np.mean(predicted == y_test)"
   ]
  },
  {
   "cell_type": "code",
   "execution_count": 17,
   "id": "a89724d5-899d-41ec-ac53-045c0009aa3c",
   "metadata": {},
   "outputs": [
    {
     "name": "stdout",
     "output_type": "stream",
     "text": [
      "              precision    recall  f1-score   support\n",
      "\n",
      "          -1       0.82      0.57      0.68       270\n",
      "           0       0.80      0.93      0.86       742\n",
      "           1       0.85      0.81      0.83       588\n",
      "\n",
      "    accuracy                           0.82      1600\n",
      "   macro avg       0.83      0.77      0.79      1600\n",
      "weighted avg       0.83      0.82      0.82      1600\n",
      "\n"
     ]
    }
   ],
   "source": [
    "from sklearn import metrics\n",
    "print(metrics.classification_report(y_test, predicted,\n",
    "    target_names={\"-1\":\"N\", \"0\":\"Nu\", \"1\":\"P\"}))"
   ]
  },
  {
   "cell_type": "code",
   "execution_count": 18,
   "id": "1dc112bf-cffb-431a-ab40-401fee3fe106",
   "metadata": {},
   "outputs": [
    {
     "data": {
      "text/plain": [
       "array([[155,  75,  40],\n",
       "       [ 14, 687,  41],\n",
       "       [ 20,  92, 476]])"
      ]
     },
     "execution_count": 18,
     "metadata": {},
     "output_type": "execute_result"
    }
   ],
   "source": [
    "metrics.confusion_matrix(y_test, predicted)"
   ]
  },
  {
   "cell_type": "code",
   "execution_count": 29,
   "id": "5d4bfe1f-ecd9-46cc-bf0e-aa1d05ecd91a",
   "metadata": {},
   "outputs": [
    {
     "data": {
      "text/plain": [
       "0.800625"
      ]
     },
     "execution_count": 29,
     "metadata": {},
     "output_type": "execute_result"
    }
   ],
   "source": [
    "text_clf = Pipeline([\n",
    "    ('vect', CountVectorizer()),\n",
    "    ('tfidf', TfidfTransformer()),\n",
    "    ('clf', Perceptron(penalty='l1'))\n",
    "])\n",
    "\n",
    "text_clf.fit(X_train, y_train)\n",
    "\n",
    "predicted = text_clf.predict(X_test)\n",
    "np.mean(predicted == y_test)"
   ]
  },
  {
   "cell_type": "code",
   "execution_count": null,
   "id": "d0b43caf-03d8-4e0d-9a12-e75a1fafa71b",
   "metadata": {},
   "outputs": [],
   "source": []
  },
  {
   "cell_type": "code",
   "execution_count": null,
   "id": "6bd11d8e-73c6-47f3-b5a2-73bec440824d",
   "metadata": {},
   "outputs": [],
   "source": []
  },
  {
   "cell_type": "code",
   "execution_count": null,
   "id": "85daa047-d109-4efc-a98a-7cd4a81d847e",
   "metadata": {},
   "outputs": [],
   "source": []
  },
  {
   "cell_type": "markdown",
   "id": "63cf752d-ef56-4a28-a1b1-e34b3bc47c3a",
   "metadata": {},
   "source": [
    "# Parameter tuning using grid search\n"
   ]
  },
  {
   "cell_type": "code",
   "execution_count": 19,
   "id": "4f009cad-22b6-41c0-b4a2-b18ab1923447",
   "metadata": {},
   "outputs": [],
   "source": [
    "from sklearn.model_selection import GridSearchCV\n",
    "parameters = {\n",
    "    'vect__ngram_range': [(1, 1), (1, 2), (1,3)],\n",
    "    'tfidf__use_idf': (True, False),\n",
    "    'clf__alpha': (1e-2, 1e-3, 1e-4),\n",
    "    'clf__loss': ['hinge', 'log', 'modified_huber', 'squared_hinge', 'perceptron'],\n",
    "}"
   ]
  },
  {
   "cell_type": "code",
   "execution_count": 20,
   "id": "13495b36-df28-463e-b226-ba62ff15eb7a",
   "metadata": {},
   "outputs": [],
   "source": [
    "gs_clf = GridSearchCV(text_clf, parameters, cv=5, n_jobs=-1)\n",
    "gs_clf = gs_clf.fit(X_train, y_train)"
   ]
  },
  {
   "cell_type": "code",
   "execution_count": 21,
   "id": "d9bf2a85-1cb1-4fc4-8fe4-8b3b4a49bb08",
   "metadata": {},
   "outputs": [
    {
     "data": {
      "text/plain": [
       "array([1])"
      ]
     },
     "execution_count": 21,
     "metadata": {},
     "output_type": "execute_result"
    }
   ],
   "source": [
    "gs_clf.predict([\"The sins of the father are so good will drag the son to hell hate sex\"])"
   ]
  },
  {
   "cell_type": "code",
   "execution_count": 22,
   "id": "72981e90-42f0-4f04-a029-c07f5efe48b7",
   "metadata": {},
   "outputs": [
    {
     "data": {
      "text/plain": [
       "0.8143199896747673"
      ]
     },
     "execution_count": 22,
     "metadata": {},
     "output_type": "execute_result"
    }
   ],
   "source": [
    "gs_clf.best_score_"
   ]
  },
  {
   "cell_type": "code",
   "execution_count": 23,
   "id": "6a8ad0da-64ba-43a4-8f00-c07a05a1bf53",
   "metadata": {},
   "outputs": [
    {
     "name": "stdout",
     "output_type": "stream",
     "text": [
      "clf__alpha: 0.0001\n",
      "clf__loss: 'modified_huber'\n",
      "tfidf__use_idf: False\n",
      "vect__ngram_range: (1, 1)\n"
     ]
    }
   ],
   "source": [
    "for param_name in sorted(parameters.keys()):\n",
    "    print(\"%s: %r\" % (param_name, gs_clf.best_params_[param_name]))"
   ]
  },
  {
   "cell_type": "code",
   "execution_count": null,
   "id": "4556ad72-727c-4954-b13e-3ce78373d55b",
   "metadata": {},
   "outputs": [],
   "source": []
  },
  {
   "cell_type": "code",
   "execution_count": 34,
   "id": "a0ec085d-cb30-42d5-afc6-453cf40f9c9e",
   "metadata": {},
   "outputs": [
    {
     "data": {
      "text/plain": [
       "Pipeline(steps=[('vect', CountVectorizer()), ('tfidf', TfidfTransformer()),\n",
       "                ('clf', MultinomialNB())])"
      ]
     },
     "execution_count": 34,
     "metadata": {},
     "output_type": "execute_result"
    }
   ],
   "source": [
    "text_clf.fit(X_train, y_train)"
   ]
  },
  {
   "cell_type": "code",
   "execution_count": 7,
   "id": "617a2769-5fda-4fb5-88cb-e827a1082571",
   "metadata": {},
   "outputs": [
    {
     "name": "stdout",
     "output_type": "stream",
     "text": [
      "Pre-Processing the Tweets\n"
     ]
    }
   ],
   "source": [
    "# Get Vectorized Features\n",
    "X_train_trigram, X_test_trigram, y_train, y_test, trigram_vect = SADataPreparation().vectorize_features(cleaned_df)"
   ]
  },
  {
   "cell_type": "markdown",
   "id": "b1b8c7ba-2ffe-4fce-8fa1-fe468e12155d",
   "metadata": {},
   "source": [
    "## Modeling"
   ]
  },
  {
   "cell_type": "code",
   "execution_count": 12,
   "id": "0db7ba69-0d9e-4e27-a825-e0048c5d03b0",
   "metadata": {},
   "outputs": [],
   "source": [
    "class Modeling:\n",
    "    def __init__(self,X_train,X_test,y_train,y_test,trigram_vect):\n",
    "        self.X_train = X_train\n",
    "        self.X_test = X_test\n",
    "        self.y_train = y_train\n",
    "        self.y_test = y_test\n",
    "        self.trigram_vect = trigram_vect\n",
    "\n",
    "    def model(self):\n",
    "        clf = SGDClassifier()#loss=\"perceptron\", eta0=10, learning_rate=\"constant\", penalty=None)#, verbose=3)\n",
    "        clf.fit(self.X_train, self.y_train)\n",
    "        \n",
    "        return clf\n",
    "\n",
    "    def predict(self, x_test=None):\n",
    "        sgd_model = self.model()\n",
    "        if x_test is None:\n",
    "            \n",
    "            return sgd_model.predict(self.X_test)\n",
    "        else:\n",
    "            x_vect = self.trigram_vect.transform(x_test)\n",
    "            \n",
    "            return sgd_model.predict(x_vect)\n",
    "\n",
    "    def display_model_info(self):\n",
    "        print(self.model().show_topics(formatted=False))\n",
    "\n",
    "    def score(self):\n",
    "        train_score = clf.score(self.predict(self.X_train), self.y_train)\n",
    "        test_score = clf.score(self.predict(self.X_test), self.y_test)\n",
    "        print(\"Train score: \"+str(round(train_score, 2))+\" ; Validation score: \"+str(round(test_score, 2)))\n",
    "\n",
    "    def precision_recall(self):\n",
    "        precision = precision_score(self.y_test, self.predict(), average='weighted')\n",
    "        recall = recall_score(self.y_test, self.predict(), average='weighted')\n",
    "        print(f'The precision score is {precision} and the recall score is {recall}')"
   ]
  },
  {
   "cell_type": "markdown",
   "id": "7741868a-7e30-4537-b1f6-a160dff9fe5d",
   "metadata": {},
   "source": [
    "There are lots of missing values in the sensitivity colum, so i will drop it"
   ]
  },
  {
   "cell_type": "code",
   "execution_count": 13,
   "id": "9b77430c-0249-4a89-aa85-54dca14b6829",
   "metadata": {},
   "outputs": [
    {
     "data": {
      "text/plain": [
       "array([ 1,  0,  0,  0,  0, -1,  0,  0,  1,  1,  1,  0, -1,  1,  0,  1,  0,\n",
       "        0,  1,  0,  0,  1, -1,  1,  0,  0,  0,  0, -1,  0,  1,  0,  1,  0,\n",
       "        0,  0, -1,  1,  0,  1,  0,  1,  0, -1,  0,  1,  1,  1,  0,  1,  0,\n",
       "        0, -1,  0,  1, -1,  1,  0,  1,  0,  0,  0,  0, -1,  0,  1,  0,  1,\n",
       "        1,  0,  1,  1,  0,  0,  0,  1,  1,  0,  0,  0,  0,  0,  1,  0, -1,\n",
       "        0,  1,  0,  0, -1,  0,  0,  1,  0,  0,  0,  0,  0,  0,  0,  1,  0,\n",
       "       -1, -1,  1,  0,  0,  0,  0,  0,  0,  0,  1,  1,  1,  0,  0,  0,  1,\n",
       "        1,  0,  1,  0,  0,  0, -1,  0,  0,  0,  1,  1,  1,  1,  0,  0,  0,\n",
       "        1,  0,  0,  1,  0,  1,  0,  0,  1,  0,  0,  0,  0,  1,  0,  0,  0,\n",
       "        0,  1,  0,  1,  0,  1,  1,  0,  1,  1,  0,  0,  0,  1,  0,  1,  0,\n",
       "        0,  0,  0,  1,  1,  1,  1,  0,  1,  1,  0,  1,  0,  1,  0,  1,  0,\n",
       "        1,  0,  0,  0,  0,  1,  1, -1,  1,  1,  1,  0,  1])"
      ]
     },
     "execution_count": 13,
     "metadata": {},
     "output_type": "execute_result"
    }
   ],
   "source": [
    "model_output = Modeling(X_train_trigram,X_test_trigram,y_train, y_test,trigram_vect)\n",
    "model_output.predict()[:200]"
   ]
  },
  {
   "cell_type": "code",
   "execution_count": 14,
   "id": "de56257e-6b4f-4ae8-825a-5d6ff376c511",
   "metadata": {},
   "outputs": [
    {
     "data": {
      "text/plain": [
       "array([0])"
      ]
     },
     "execution_count": 14,
     "metadata": {},
     "output_type": "execute_result"
    }
   ],
   "source": [
    "model_output.predict([\"I like this lunch\"])"
   ]
  },
  {
   "cell_type": "code",
   "execution_count": 15,
   "id": "a8b1d294-c271-41f3-add3-5494db37f480",
   "metadata": {},
   "outputs": [
    {
     "name": "stdout",
     "output_type": "stream",
     "text": [
      "The precision score is 0.8051081128002368 and the recall score is 0.7918424753867792\n"
     ]
    }
   ],
   "source": [
    "model_output.precision_recall()"
   ]
  },
  {
   "cell_type": "code",
   "execution_count": 33,
   "id": "83a9a469-f8e9-4ac3-866e-5263d7e1dbd8",
   "metadata": {},
   "outputs": [
    {
     "name": "stdout",
     "output_type": "stream",
     "text": [
      "Pre-Processing the Tweets\n"
     ]
    },
    {
     "data": {
      "text/plain": [
       "<AxesSubplot:ylabel='score'>"
      ]
     },
     "execution_count": 33,
     "metadata": {},
     "output_type": "execute_result"
    },
    {
     "data": {
      "image/png": "[encoded data removed]",
      "text/plain": [
       "<Figure size 504x504 with 1 Axes>"
      ]
     },
     "metadata": {},
     "output_type": "display_data"
    }
   ],
   "source": [
    "labled_df = SADataPreparation().preprocess_data(cleaned_df, False)\n",
    "labled_df = labled_df[['clean_text', 'score']]\n",
    "labled_df['score'].value_counts().plot.pie(figsize=(7,7), fontsize=14)"
   ]
  },
  {
   "cell_type": "markdown",
   "id": "3102f515-a9b0-4d50-b8c3-1bd0c1f21610",
   "metadata": {},
   "source": [
    "Next up: Read this blog and use some of the techniques used to find the best parametrs and get the best results.\n",
    "blog link: https://towardsdatascience.com/building-a-sentiment-classifier-using-scikit-learn-54c8e7c5d2f0"
   ]
  }
 ],
 "metadata": {
  "kernelspec": {
   "display_name": "Python 3 (ipykernel)",
   "language": "python",
   "name": "python3"
  },
  "language_info": {
   "codemirror_mode": {
    "name": "ipython",
    "version": 3
   },
   "file_extension": ".py",
   "mimetype": "text/x-python",
   "name": "python",
   "nbconvert_exporter": "python",
   "pygments_lexer": "ipython3",
   "version": "3.10.4"
  }
 },
 "nbformat": 4,
 "nbformat_minor": 5
}
