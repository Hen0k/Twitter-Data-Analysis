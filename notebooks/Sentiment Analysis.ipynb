{
 "cells": [
  {
   "cell_type": "markdown",
   "id": "719c95ae-43e6-4861-9015-18600789bbef",
   "metadata": {},
   "source": [
    "# Sentiment Analysis"
   ]
  },
  {
   "cell_type": "markdown",
   "id": "6a7e86d1-25f4-41bc-9f00-b2be8a365810",
   "metadata": {},
   "source": [
    "## Imports"
   ]
  },
  {
   "cell_type": "code",
   "execution_count": 275,
   "id": "8f4515c2-6e40-444b-b05a-92ea202d3d5e",
   "metadata": {},
   "outputs": [],
   "source": [
    "# pandas library and other Python modules\n",
    "import pandas as pd # data processing, CSV file I/O (e.g. pd.read_csv)\n",
    "import os\n",
    "from os import chdir\n",
    "from os.path import isfile, join\n",
    "from random import shuffle\n",
    "\n",
    "from sklearn.feature_extraction.text import CountVectorizer, TfidfTransformer\n",
    "from sklearn.decomposition import NMF, LatentDirichletAllocation\n",
    "from sklearn.linear_model import SGDClassifier\n",
    "from sklearn.model_selection import train_test_split\n",
    "from sklearn.model_selection import RandomizedSearchCV\n",
    "from sklearn.metrics import precision_score, recall_score\n",
    "\n",
    "import numpy as np # linear algebra\n",
    "from joblib import dump, load # used for saving and loading sklearn objects\n",
    "from scipy.sparse import save_npz, load_npz # used for saving and loading sparse matrices\n",
    "from scipy.stats import uniform\n",
    "from scipy.sparse import csr_matrix"
   ]
  },
  {
   "cell_type": "markdown",
   "id": "9b5bb656-369f-480c-baf5-22970b5d5986",
   "metadata": {},
   "source": [
    "## Data Preparation"
   ]
  },
  {
   "cell_type": "markdown",
   "id": "9507a793-0e1a-4f84-8b82-b33fc8f3576f",
   "metadata": {},
   "source": [
    "Here, what we have are tweets. I will be considering each tweet as a document.\n",
    "Let's follow the following steps:\n",
    "- Read the cached CSV\n",
    "- Take the polarity, sensetivity, and text columns\n",
    "- split into train and test set"
   ]
  },
  {
   "cell_type": "code",
   "execution_count": 40,
   "id": "ef9f02a2-c3d1-4b6b-87bf-943d183684e9",
   "metadata": {},
   "outputs": [],
   "source": [
    "#data loader class\n",
    "class DataLoader:\n",
    "    def __init__(self,dir_name,file_name):\n",
    "        self.dir_name = dir_name\n",
    "        self.file_name = file_name\n",
    "\n",
    "\n",
    "    def read_csv(self):\n",
    "        chdir(self.dir_name)\n",
    "        tweets_df = pd.read_csv(self.file_name)\n",
    "        chdir(\"notebooks\")\n",
    "        return tweets_df"
   ]
  },
  {
   "cell_type": "code",
   "execution_count": 149,
   "id": "384cade8-e734-4fe0-a6c3-597bcc7728ea",
   "metadata": {},
   "outputs": [
    {
     "name": "stdout",
     "output_type": "stream",
     "text": [
      "(24637, 15)\n",
      "Index(['created_at', 'source', 'original_text', 'polarity', 'subjectivity',\n",
      "       'lang', 'favorite_count', 'retweet_count', 'original_author',\n",
      "       'followers_count', 'friends_count', 'possibly_sensitive', 'hashtags',\n",
      "       'user_mentions', 'place'],\n",
      "      dtype='object')\n"
     ]
    }
   ],
   "source": [
    "filename = 'processed_tweet_data.csv'\n",
    "loader = DataLoader('../', filename)\n",
    "df = loader.read_csv()\n",
    "print(df.shape)\n",
    "print(df.columns)"
   ]
  },
  {
   "cell_type": "markdown",
   "id": "83efaa0a-5c4d-487b-a2a0-154da2d8a85a",
   "metadata": {},
   "source": [
    "## Data Cleaner"
   ]
  },
  {
   "cell_type": "code",
   "execution_count": 211,
   "id": "d383c5aa-b9dc-4ddf-b6ab-922dd65c011a",
   "metadata": {},
   "outputs": [],
   "source": [
    "class CleanTweets:\n",
    "    \"\"\"\n",
    "    The PEP8 Standard AMAZING!!!\n",
    "    \"\"\"\n",
    "\n",
    "    def __init__(self, df: pd.DataFrame):\n",
    "        self.df = df\n",
    "        print('Automation in Action...!!!')\n",
    "\n",
    "    def drop_unwanted_rows(self) -> pd.DataFrame:\n",
    "        \"\"\"\n",
    "        remove rows that has column names. This error originated from\n",
    "        the data collection stage.  \n",
    "        \"\"\"\n",
    "        null_rows = self.df['polarity'].isna().tolist()\n",
    "        self.df = self.df.drop(self.df[null_rows].index)\n",
    "        self.df = self.df[~self.df['polarity'].isin([\"ko\", \"en\"])]\n",
    "\n",
    "\n",
    "    def drop_duplicate(self) -> pd.DataFrame:\n",
    "        \"\"\"\n",
    "        drop duplicate rows\n",
    "        \"\"\"\n",
    "        self.df.drop_duplicates(inplace=True)\n",
    "\n",
    "    def drop_null(self)->pd.DataFrame:\n",
    "        # removed columns containing null values of more than 20%\n",
    "        row,col = df.shape\n",
    "        self.df.dropna(axis='columns',thresh=row*0.8,inplace=True)\n",
    "\n",
    "    def convert_to_datetime(self) -> pd.DataFrame:\n",
    "        \"\"\"\n",
    "        convert column to datetime\n",
    "        \"\"\"\n",
    "        self.df['created_at'] = pd.to_datetime(self.df['created_at'])\n",
    "\n",
    "    def convert_to_numbers(self, column_names=None) -> pd.DataFrame:\n",
    "        \"\"\"\n",
    "        convert columns like polarity, subjectivity, retweet_count\n",
    "        favorite_count etc to numbers\n",
    "        \"\"\"\n",
    "        if not column_names:\n",
    "            column_names = ['polarity', 'subjectivity',\n",
    "                        'retweet_count', 'favorite_count',\n",
    "                        'followers_count', 'friends_count']\n",
    "        for column in column_names:\n",
    "            self.df[column] = pd.to_numeric(self.df[column])\n",
    "\n",
    "    def remove_non_english_tweets(self) -> pd.DataFrame:\n",
    "        \"\"\"\n",
    "        remove non english tweets from lang\n",
    "        \"\"\"\n",
    "        self.df = self.df[self.df['lang'] == 'en']\n",
    "\n",
    "    def reset_index(self) -> pd.DataFrame:\n",
    "        \"\"\"\n",
    "        reset the index after preprocessing\n",
    "        \"\"\"\n",
    "        self.df.reset_index(drop=True, inplace=True)\n",
    "    \n",
    "    def special_chars(self, x):\n",
    "        special_characters = '@_!#$%^&*()<>?/\\|}{~:;[]'\n",
    "        for char in special_characters:\n",
    "            x = x.replace(char, '')\n",
    "        x = x.encode('ascii', 'ignore').decode('ascii')\n",
    "        \n",
    "        return x\n",
    "    \n",
    "    def filter_text(self) -> pd.DataFrame:\n",
    "        print(self.df.columns)\n",
    "        self.df['clean_text'] = self.df['original_text'].apply(\n",
    "            lambda x: self.special_chars(x))\n",
    "\n",
    "\n",
    "    def clean_df(self):\n",
    "        self.drop_null()\n",
    "        self.drop_unwanted_rows()\n",
    "        self.remove_non_english_tweets()\n",
    "        self.drop_duplicate()\n",
    "        self.convert_to_datetime()\n",
    "        self.convert_to_numbers()\n",
    "        self.reset_index()\n",
    "        self.filter_text()\n",
    "\n",
    "        return self.df\n"
   ]
  },
  {
   "cell_type": "code",
   "execution_count": 212,
   "id": "f9b6a068-cb2d-4c72-b6d5-7df4a234d12f",
   "metadata": {},
   "outputs": [
    {
     "name": "stdout",
     "output_type": "stream",
     "text": [
      "(24637, 15)\n"
     ]
    }
   ],
   "source": [
    "# df = tweets_df[['original_text', 'polarity', 'subjectivity', 'possibly_sensitive', 'lang']]\n",
    "print(df.shape)\n",
    "# df.head()"
   ]
  },
  {
   "cell_type": "code",
   "execution_count": 213,
   "id": "3b46cb63-58ea-4e92-861d-9c2a43fdc077",
   "metadata": {},
   "outputs": [
    {
     "name": "stdout",
     "output_type": "stream",
     "text": [
      "Automation in Action...!!!\n",
      "Index(['created_at', 'source', 'original_text', 'polarity', 'subjectivity',\n",
      "       'lang', 'favorite_count', 'retweet_count', 'original_author',\n",
      "       'followers_count', 'friends_count', 'hashtags', 'user_mentions'],\n",
      "      dtype='object')\n",
      "<class 'pandas.core.frame.DataFrame'>\n",
      "RangeIndex: 16465 entries, 0 to 16464\n",
      "Data columns (total 14 columns):\n",
      " #   Column           Non-Null Count  Dtype              \n",
      "---  ------           --------------  -----              \n",
      " 0   created_at       16465 non-null  datetime64[ns, UTC]\n",
      " 1   source           16465 non-null  object             \n",
      " 2   original_text    16465 non-null  object             \n",
      " 3   polarity         16465 non-null  float64            \n",
      " 4   subjectivity     16465 non-null  float64            \n",
      " 5   lang             16465 non-null  object             \n",
      " 6   favorite_count   16465 non-null  int64              \n",
      " 7   retweet_count    16465 non-null  float64            \n",
      " 8   original_author  16465 non-null  object             \n",
      " 9   followers_count  16465 non-null  int64              \n",
      " 10  friends_count    16465 non-null  int64              \n",
      " 11  hashtags         16465 non-null  object             \n",
      " 12  user_mentions    16465 non-null  object             \n",
      " 13  clean_text       16465 non-null  object             \n",
      "dtypes: datetime64[ns, UTC](1), float64(3), int64(3), object(7)\n",
      "memory usage: 1.8+ MB\n"
     ]
    }
   ],
   "source": [
    "cleaner = CleanTweets(df)\n",
    "cleaned_df = cleaner.clean_df()\n",
    "cleaned_df.info()"
   ]
  },
  {
   "cell_type": "code",
   "execution_count": 214,
   "id": "8f7c058e-98fa-4d5d-9762-7645cb8071be",
   "metadata": {},
   "outputs": [
    {
     "data": {
      "text/html": [
       "<div>\n",
       "<style scoped>\n",
       "    .dataframe tbody tr th:only-of-type {\n",
       "        vertical-align: middle;\n",
       "    }\n",
       "\n",
       "    .dataframe tbody tr th {\n",
       "        vertical-align: top;\n",
       "    }\n",
       "\n",
       "    .dataframe thead th {\n",
       "        text-align: right;\n",
       "    }\n",
       "</style>\n",
       "<table border=\"1\" class=\"dataframe\">\n",
       "  <thead>\n",
       "    <tr style=\"text-align: right;\">\n",
       "      <th></th>\n",
       "      <th>polarity</th>\n",
       "      <th>subjectivity</th>\n",
       "    </tr>\n",
       "  </thead>\n",
       "  <tbody>\n",
       "    <tr>\n",
       "      <th>count</th>\n",
       "      <td>16465.000000</td>\n",
       "      <td>16465.000000</td>\n",
       "    </tr>\n",
       "    <tr>\n",
       "      <th>mean</th>\n",
       "      <td>0.088542</td>\n",
       "      <td>0.313959</td>\n",
       "    </tr>\n",
       "    <tr>\n",
       "      <th>std</th>\n",
       "      <td>0.279757</td>\n",
       "      <td>0.316419</td>\n",
       "    </tr>\n",
       "    <tr>\n",
       "      <th>min</th>\n",
       "      <td>-1.000000</td>\n",
       "      <td>0.000000</td>\n",
       "    </tr>\n",
       "    <tr>\n",
       "      <th>25%</th>\n",
       "      <td>0.000000</td>\n",
       "      <td>0.000000</td>\n",
       "    </tr>\n",
       "    <tr>\n",
       "      <th>50%</th>\n",
       "      <td>0.000000</td>\n",
       "      <td>0.288889</td>\n",
       "    </tr>\n",
       "    <tr>\n",
       "      <th>75%</th>\n",
       "      <td>0.200000</td>\n",
       "      <td>0.527778</td>\n",
       "    </tr>\n",
       "    <tr>\n",
       "      <th>max</th>\n",
       "      <td>1.000000</td>\n",
       "      <td>1.000000</td>\n",
       "    </tr>\n",
       "  </tbody>\n",
       "</table>\n",
       "</div>"
      ],
      "text/plain": [
       "           polarity  subjectivity\n",
       "count  16465.000000  16465.000000\n",
       "mean       0.088542      0.313959\n",
       "std        0.279757      0.316419\n",
       "min       -1.000000      0.000000\n",
       "25%        0.000000      0.000000\n",
       "50%        0.000000      0.288889\n",
       "75%        0.200000      0.527778\n",
       "max        1.000000      1.000000"
      ]
     },
     "execution_count": 214,
     "metadata": {},
     "output_type": "execute_result"
    }
   ],
   "source": [
    "cleaned_df = cleaned_df[['clean_text', 'polarity', 'subjectivity']]\n",
    "cleaned_df.describe()"
   ]
  },
  {
   "cell_type": "code",
   "execution_count": 216,
   "id": "b9058723-cea1-48ef-8e08-072573dbf339",
   "metadata": {},
   "outputs": [
    {
     "name": "stdout",
     "output_type": "stream",
     "text": [
      "Null entry count per column\n"
     ]
    },
    {
     "data": {
      "text/plain": [
       "clean_text      0\n",
       "polarity        0\n",
       "subjectivity    0\n",
       "dtype: int64"
      ]
     },
     "execution_count": 216,
     "metadata": {},
     "output_type": "execute_result"
    }
   ],
   "source": [
    "print(\"Null entry count per column\")\n",
    "cleaned_df.isnull().sum()"
   ]
  },
  {
   "cell_type": "markdown",
   "id": "9f5c6e61-862f-40f5-9b33-6905fb76b008",
   "metadata": {},
   "source": [
    "## Data Preparation"
   ]
  },
  {
   "cell_type": "markdown",
   "id": "8245f04c-ad2c-4c3a-b573-826ca7e18ba5",
   "metadata": {},
   "source": [
    "The data needs to be in an X -> Y format.\n",
    "The X would be the clean_text and Y would be a label calculated \n",
    "from polarity and subjectivity"
   ]
  },
  {
   "cell_type": "code",
   "execution_count": 280,
   "id": "c0d84185-1c95-4365-b5e6-d08ce827fe3b",
   "metadata": {},
   "outputs": [],
   "source": [
    "class SADataPreparation:\n",
    "    \"\"\"\n",
    "    This class handles the labeld data creation for a Sentiment Analysis task\n",
    "    It takes in a cleaned datafrane\n",
    "    \"\"\"\n",
    "    def __init__(self,df):\n",
    "        self.df = df\n",
    "\n",
    "    def text_label(self, p)-> str:\n",
    "        if p > 0 :\n",
    "            return 'positive'\n",
    "        elif p < 0 :\n",
    "            return 'negative'\n",
    "        else:\n",
    "            return 'neutral'\n",
    "  \n",
    "  \n",
    "    def preprocess_data(self, drop_neutral=True):\n",
    "        score = self.df['polarity'].apply(\n",
    "            lambda x: self.text_label(x))\n",
    "        print(type(score))\n",
    "        self.df['score'] = score\n",
    "        if drop_neutral:\n",
    "            neutrals = self.df[self.df['score'] == 'neutral']\n",
    "            self.df = self.df.drop(neutrals.index)\n",
    "        self.df = self.df.reset_index(drop=True)\n",
    "        \n",
    "        return self.df\n",
    "\n",
    "    def prepare_features(self):\n",
    "        self.preprocess_data()\n",
    "        score_series = self.df['score'].map({'positive':1, 'negative':0})\n",
    "        text_series = self.df['clean_text']\n",
    "        X = text_series.tolist()\n",
    "        y = score_series.tolist()\n",
    "        X_train, X_test, y_train, y_test = train_test_split(X, y, test_size=0.4) \n",
    "        \n",
    "        return X_train, X_test, y_train, y_test\n",
    "\n",
    "    def vectorize_features(self):\n",
    "        X_train, X_test, y_train, y_test = self.prepare_features()\n",
    "        trigram_vect = CountVectorizer(ngram_range=(3, 3))\n",
    "        trigram_vect.fit(X_train)\n",
    "        X_train_trigram = trigram_vect.transform(X_train)\n",
    "        X_test_trigram = trigram_vect.transform(X_test)\n",
    "        \n",
    "        return X_train_trigram, X_test_trigram, y_train, y_test, trigram_vect"
   ]
  },
  {
   "cell_type": "code",
   "execution_count": 266,
   "id": "617a2769-5fda-4fb5-88cb-e827a1082571",
   "metadata": {},
   "outputs": [
    {
     "name": "stdout",
     "output_type": "stream",
     "text": [
      "<class 'pandas.core.series.Series'>\n"
     ]
    },
    {
     "name": "stderr",
     "output_type": "stream",
     "text": [
      "/tmp/ipykernel_5637/577006742.py:22: SettingWithCopyWarning: \n",
      "A value is trying to be set on a copy of a slice from a DataFrame.\n",
      "Try using .loc[row_indexer,col_indexer] = value instead\n",
      "\n",
      "See the caveats in the documentation: https://pandas.pydata.org/pandas-docs/stable/user_guide/indexing.html#returning-a-view-versus-a-copy\n",
      "  self.df['score'] = score\n"
     ]
    }
   ],
   "source": [
    "# Get Vectorized Features\n",
    "X_train_trigram, X_test_trigram, y_train, y_test, trigram_vect = SADataPreparation(cleaned_df).vectorize_features()"
   ]
  },
  {
   "cell_type": "code",
   "execution_count": 267,
   "id": "d65a1f7c-b28e-4d21-b555-91b1c3c3c514",
   "metadata": {},
   "outputs": [],
   "source": [
    "## Modeling"
   ]
  },
  {
   "cell_type": "code",
   "execution_count": 276,
   "id": "0db7ba69-0d9e-4e27-a825-e0048c5d03b0",
   "metadata": {},
   "outputs": [],
   "source": [
    "class Modeling:\n",
    "    def __init__(self,X_train,X_test,y_train,y_test,trigram_vect):\n",
    "        self.X_train = X_train\n",
    "        self.X_test = X_test\n",
    "        self.y_train = y_train\n",
    "        self.y_test = y_test\n",
    "        self.trigram_vect = trigram_vect\n",
    "\n",
    "    def model(self):\n",
    "        clf = SGDClassifier()\n",
    "        clf.fit(self.X_train, y_train)\n",
    "        \n",
    "        return clf\n",
    "\n",
    "    def predict(self, x_test=None):\n",
    "        sgd_model = self.model()\n",
    "        if x_test is None:\n",
    "            \n",
    "            return sgd_model.predict(self.X_test)\n",
    "        else:\n",
    "            x_vect = self.trigram_vect.transform(x_test)\n",
    "            \n",
    "            return sgd_model.predict(x_vect)\n",
    "\n",
    "    def display_info_model(self):\n",
    "        print(self.model().show_topics(formatted=False))\n",
    "\n",
    "    def score(self):\n",
    "        train_score = clf.score(self.predict(self.X_train), self.y_train)\n",
    "        test_score = clf.score(self.predict(self.X_test), self.y_test)\n",
    "        print(\"Train score: \"+str(round(train_score, 2))+\" ; Validation score: \"+str(round(test_score, 2)))\n",
    "\n",
    "    def precision_recall(self):\n",
    "        precision = precision_score(self.y_test, self.predict(), average='weighted')\n",
    "        recall = recall_score(self.y_test, self.predict(), average='weighted')\n",
    "        print(f'The precision score is {precision} and the recall score is {recall}')"
   ]
  },
  {
   "cell_type": "markdown",
   "id": "7741868a-7e30-4537-b1f6-a160dff9fe5d",
   "metadata": {},
   "source": [
    "There are lots of missing values in the sensitivity colum, so i will drop it"
   ]
  },
  {
   "cell_type": "code",
   "execution_count": 277,
   "id": "9b77430c-0249-4a89-aa85-54dca14b6829",
   "metadata": {},
   "outputs": [
    {
     "data": {
      "text/plain": [
       "array([1, 1, 1, 1, 1, 1, 1, 1, 1, 1, 1, 1, 1, 1, 1, 1, 1, 0, 1, 1, 1, 1,\n",
       "       1, 0, 1, 1, 1, 1, 1, 1, 1, 1, 1, 1, 1, 1, 1, 0, 1, 1, 1, 1, 1, 1,\n",
       "       1, 1, 1, 1, 0, 1, 1, 1, 1, 1, 1, 1, 1, 1, 1, 1, 1, 1, 1, 1, 1, 1,\n",
       "       1, 1, 1, 1, 1, 1, 1, 1, 1, 0, 1, 1, 1, 1, 1, 0, 1, 1, 1, 1, 1, 1,\n",
       "       1, 1, 1, 1, 1, 1, 1, 1, 1, 1, 1, 1])"
      ]
     },
     "execution_count": 277,
     "metadata": {},
     "output_type": "execute_result"
    }
   ],
   "source": [
    "model_output = Modeling(X_train_trigram,X_test_trigram,y_train, y_test,trigram_vect)\n",
    "model_output.predict()[:100]"
   ]
  },
  {
   "cell_type": "code",
   "execution_count": 278,
   "id": "a8b1d294-c271-41f3-add3-5494db37f480",
   "metadata": {},
   "outputs": [
    {
     "name": "stdout",
     "output_type": "stream",
     "text": [
      "The precision score is 0.816710884952448 and the recall score is 0.7611111111111111\n"
     ]
    }
   ],
   "source": [
    "model_output.precision_recall()"
   ]
  },
  {
   "cell_type": "code",
   "execution_count": 298,
   "id": "83a9a469-f8e9-4ac3-866e-5263d7e1dbd8",
   "metadata": {},
   "outputs": [
    {
     "name": "stdout",
     "output_type": "stream",
     "text": [
      "<class 'pandas.core.series.Series'>\n"
     ]
    },
    {
     "name": "stderr",
     "output_type": "stream",
     "text": [
      "/tmp/ipykernel_5637/2590083492.py:22: SettingWithCopyWarning: \n",
      "A value is trying to be set on a copy of a slice from a DataFrame.\n",
      "Try using .loc[row_indexer,col_indexer] = value instead\n",
      "\n",
      "See the caveats in the documentation: https://pandas.pydata.org/pandas-docs/stable/user_guide/indexing.html#returning-a-view-versus-a-copy\n",
      "  self.df['score'] = score\n"
     ]
    },
    {
     "data": {
      "text/plain": [
       "<AxesSubplot:ylabel='score'>"
      ]
     },
     "execution_count": 298,
     "metadata": {},
     "output_type": "execute_result"
    },
    {
     "data": {
      "image/png": "[encoded data removed]",
      "text/plain": [
       "<Figure size 504x504 with 1 Axes>"
      ]
     },
     "metadata": {},
     "output_type": "display_data"
    }
   ],
   "source": [
    "labled_df = SADataPreparation(cleaned_df).preprocess_data(True)\n",
    "labled_df = labled_df[['clean_text', 'score']]\n",
    "labled_df['score'].value_counts().plot.pie(figsize=(7,7), fontsize=14)"
   ]
  },
  {
   "cell_type": "code",
   "execution_count": null,
   "id": "ef908211-2af7-4143-a87a-cc77b5277b8b",
   "metadata": {},
   "outputs": [],
   "source": []
  },
  {
   "cell_type": "code",
   "execution_count": null,
   "id": "6427b437-e2f6-42bc-a69e-595cf8ae3054",
   "metadata": {},
   "outputs": [],
   "source": []
  }
 ],
 "metadata": {
  "kernelspec": {
   "display_name": "Python 3 (ipykernel)",
   "language": "python",
   "name": "python3"
  },
  "language_info": {
   "codemirror_mode": {
    "name": "ipython",
    "version": 3
   },
   "file_extension": ".py",
   "mimetype": "text/x-python",
   "name": "python",
   "nbconvert_exporter": "python",
   "pygments_lexer": "ipython3",
   "version": "3.8.10"
  }
 },
 "nbformat": 4,
 "nbformat_minor": 5
}
