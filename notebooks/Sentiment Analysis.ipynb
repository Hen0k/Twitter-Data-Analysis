{
 "cells": [
  {
   "cell_type": "markdown",
   "id": "719c95ae-43e6-4861-9015-18600789bbef",
   "metadata": {},
   "source": [
    "# Sentiment Analysis"
   ]
  },
  {
   "cell_type": "markdown",
   "id": "6a7e86d1-25f4-41bc-9f00-b2be8a365810",
   "metadata": {},
   "source": [
    "## Imports"
   ]
  },
  {
   "cell_type": "code",
   "execution_count": 39,
   "id": "8f4515c2-6e40-444b-b05a-92ea202d3d5e",
   "metadata": {},
   "outputs": [],
   "source": [
    "# pandas library and other Python modules\n",
    "import pandas as pd # data processing, CSV file I/O (e.g. pd.read_csv)\n",
    "import os\n",
    "from os import chdir\n",
    "from os.path import isfile, join\n",
    "from random import shuffle\n",
    "\n",
    "from sklearn.feature_extraction.text import CountVectorizer, TfidfTransformer\n",
    "from sklearn.decomposition import NMF, LatentDirichletAllocation\n",
    "from sklearn.linear_model import SGDClassifier\n",
    "from sklearn.model_selection import train_test_split\n",
    "from sklearn.model_selection import RandomizedSearchCV\n",
    "\n",
    "import numpy as np # linear algebra\n",
    "from joblib import dump, load # used for saving and loading sklearn objects\n",
    "from scipy.sparse import save_npz, load_npz # used for saving and loading sparse matrices\n",
    "from scipy.stats import uniform\n",
    "from scipy.sparse import csr_matrix"
   ]
  },
  {
   "cell_type": "markdown",
   "id": "9b5bb656-369f-480c-baf5-22970b5d5986",
   "metadata": {},
   "source": [
    "## Data Preparation"
   ]
  },
  {
   "cell_type": "markdown",
   "id": "9507a793-0e1a-4f84-8b82-b33fc8f3576f",
   "metadata": {},
   "source": [
    "Here, what we have are tweets. I will be considering each tweet as a document.\n",
    "Let's follow the following steps:\n",
    "- Read the cached CSV\n",
    "- Take the polarity, sensetivity, and text columns\n",
    "- split into train and test set"
   ]
  },
  {
   "cell_type": "code",
   "execution_count": 40,
   "id": "ef9f02a2-c3d1-4b6b-87bf-943d183684e9",
   "metadata": {},
   "outputs": [],
   "source": [
    "#data loader class\n",
    "class DataLoader:\n",
    "    def __init__(self,dir_name,file_name):\n",
    "        self.dir_name = dir_name\n",
    "        self.file_name = file_name\n",
    "\n",
    "\n",
    "    def read_csv(self):\n",
    "        chdir(self.dir_name)\n",
    "        tweets_df = pd.read_csv(self.file_name)\n",
    "        chdir(\"notebooks\")\n",
    "        return tweets_df"
   ]
  },
  {
   "cell_type": "code",
   "execution_count": 41,
   "id": "384cade8-e734-4fe0-a6c3-597bcc7728ea",
   "metadata": {},
   "outputs": [
    {
     "name": "stdout",
     "output_type": "stream",
     "text": [
      "(24637, 15)\n",
      "Index(['created_at', 'source', 'original_text', 'polarity', 'subjectivity',\n",
      "       'lang', 'favorite_count', 'retweet_count', 'original_author',\n",
      "       'followers_count', 'friends_count', 'possibly_sensitive', 'hashtags',\n",
      "       'user_mentions', 'place'],\n",
      "      dtype='object')\n"
     ]
    }
   ],
   "source": [
    "filename = 'processed_tweet_data.csv'\n",
    "loader = DataLoader('../', filename)\n",
    "tweets_df = loader.read_csv()\n",
    "print(tweets_df.shape)\n",
    "print(tweets_df.columns)"
   ]
  },
  {
   "cell_type": "code",
   "execution_count": 124,
   "id": "f9b6a068-cb2d-4c72-b6d5-7df4a234d12f",
   "metadata": {},
   "outputs": [
    {
     "name": "stdout",
     "output_type": "stream",
     "text": [
      "(24637, 4)\n"
     ]
    },
    {
     "data": {
      "text/html": [
       "<div>\n",
       "<style scoped>\n",
       "    .dataframe tbody tr th:only-of-type {\n",
       "        vertical-align: middle;\n",
       "    }\n",
       "\n",
       "    .dataframe tbody tr th {\n",
       "        vertical-align: top;\n",
       "    }\n",
       "\n",
       "    .dataframe thead th {\n",
       "        text-align: right;\n",
       "    }\n",
       "</style>\n",
       "<table border=\"1\" class=\"dataframe\">\n",
       "  <thead>\n",
       "    <tr style=\"text-align: right;\">\n",
       "      <th></th>\n",
       "      <th>original_text</th>\n",
       "      <th>polarity</th>\n",
       "      <th>subjectivity</th>\n",
       "      <th>possibly_sensitive</th>\n",
       "    </tr>\n",
       "  </thead>\n",
       "  <tbody>\n",
       "    <tr>\n",
       "      <th>0</th>\n",
       "      <td>RT @nikitheblogger: Irre: Annalena Baerbock sa...</td>\n",
       "      <td>0.0</td>\n",
       "      <td>0.0</td>\n",
       "      <td>NaN</td>\n",
       "    </tr>\n",
       "    <tr>\n",
       "      <th>1</th>\n",
       "      <td>RT @sagt_mit: Merkel schaffte es in 1 Jahr 1 M...</td>\n",
       "      <td>0.0</td>\n",
       "      <td>0.0</td>\n",
       "      <td>NaN</td>\n",
       "    </tr>\n",
       "    <tr>\n",
       "      <th>2</th>\n",
       "      <td>RT @Kryptonoun: @WRi007 Pharma in Lebensmittel...</td>\n",
       "      <td>0.0</td>\n",
       "      <td>0.0</td>\n",
       "      <td>NaN</td>\n",
       "    </tr>\n",
       "    <tr>\n",
       "      <th>3</th>\n",
       "      <td>RT @WRi007: Die #Deutschen sind ein braves Vol...</td>\n",
       "      <td>0.0</td>\n",
       "      <td>0.0</td>\n",
       "      <td>NaN</td>\n",
       "    </tr>\n",
       "    <tr>\n",
       "      <th>4</th>\n",
       "      <td>RT @RolandTichy: Baerbock verkündet mal so neb...</td>\n",
       "      <td>0.0</td>\n",
       "      <td>0.0</td>\n",
       "      <td>NaN</td>\n",
       "    </tr>\n",
       "  </tbody>\n",
       "</table>\n",
       "</div>"
      ],
      "text/plain": [
       "                                       original_text polarity  subjectivity  \\\n",
       "0  RT @nikitheblogger: Irre: Annalena Baerbock sa...      0.0           0.0   \n",
       "1  RT @sagt_mit: Merkel schaffte es in 1 Jahr 1 M...      0.0           0.0   \n",
       "2  RT @Kryptonoun: @WRi007 Pharma in Lebensmittel...      0.0           0.0   \n",
       "3  RT @WRi007: Die #Deutschen sind ein braves Vol...      0.0           0.0   \n",
       "4  RT @RolandTichy: Baerbock verkündet mal so neb...      0.0           0.0   \n",
       "\n",
       "  possibly_sensitive  \n",
       "0                NaN  \n",
       "1                NaN  \n",
       "2                NaN  \n",
       "3                NaN  \n",
       "4                NaN  "
      ]
     },
     "execution_count": 124,
     "metadata": {},
     "output_type": "execute_result"
    }
   ],
   "source": [
    "df = tweets_df[['original_text', 'polarity', 'subjectivity', 'possibly_sensitive']]\n",
    "print(df.shape)\n",
    "df.head()"
   ]
  },
  {
   "cell_type": "code",
   "execution_count": 125,
   "id": "3b46cb63-58ea-4e92-861d-9c2a43fdc077",
   "metadata": {},
   "outputs": [
    {
     "name": "stdout",
     "output_type": "stream",
     "text": [
      "<class 'pandas.core.frame.DataFrame'>\n",
      "RangeIndex: 24637 entries, 0 to 24636\n",
      "Data columns (total 4 columns):\n",
      " #   Column              Non-Null Count  Dtype  \n",
      "---  ------              --------------  -----  \n",
      " 0   original_text       24633 non-null  object \n",
      " 1   polarity            24625 non-null  object \n",
      " 2   subjectivity        24625 non-null  float64\n",
      " 3   possibly_sensitive  9982 non-null   object \n",
      "dtypes: float64(1), object(3)\n",
      "memory usage: 770.0+ KB\n"
     ]
    }
   ],
   "source": [
    "df.info()"
   ]
  },
  {
   "cell_type": "code",
   "execution_count": 126,
   "id": "b9058723-cea1-48ef-8e08-072573dbf339",
   "metadata": {},
   "outputs": [
    {
     "name": "stdout",
     "output_type": "stream",
     "text": [
      "Null entry count per column\n"
     ]
    },
    {
     "data": {
      "text/plain": [
       "original_text             4\n",
       "polarity                 12\n",
       "subjectivity             12\n",
       "possibly_sensitive    14655\n",
       "dtype: int64"
      ]
     },
     "execution_count": 126,
     "metadata": {},
     "output_type": "execute_result"
    }
   ],
   "source": [
    "print(\"Null entry count per column\")\n",
    "df.isnull().sum()"
   ]
  },
  {
   "cell_type": "markdown",
   "id": "9f5c6e61-862f-40f5-9b33-6905fb76b008",
   "metadata": {},
   "source": [
    "For now I will only drop rows where text is null"
   ]
  },
  {
   "cell_type": "code",
   "execution_count": 127,
   "id": "14fe9c85-4800-4934-9a53-0502b5f9b0ab",
   "metadata": {},
   "outputs": [],
   "source": [
    "null_rows = df['polarity'].isna().tolist()\n",
    "df = df.drop(df[null_rows].index)\n",
    "df = df[df['polarity']!=\"en\"]\n",
    "df = df[df['polarity']!=\"ko\"]"
   ]
  },
  {
   "cell_type": "code",
   "execution_count": 128,
   "id": "c0d84185-1c95-4365-b5e6-d08ce827fe3b",
   "metadata": {},
   "outputs": [
    {
     "name": "stdout",
     "output_type": "stream",
     "text": [
      "Null entry count per column\n"
     ]
    },
    {
     "data": {
      "text/plain": [
       "original_text             0\n",
       "polarity                  0\n",
       "subjectivity              0\n",
       "possibly_sensitive    14643\n",
       "dtype: int64"
      ]
     },
     "execution_count": 128,
     "metadata": {},
     "output_type": "execute_result"
    }
   ],
   "source": [
    "print(\"Null entry count per column\")\n",
    "df.isnull().sum()"
   ]
  },
  {
   "cell_type": "code",
   "execution_count": 129,
   "id": "617a2769-5fda-4fb5-88cb-e827a1082571",
   "metadata": {},
   "outputs": [
    {
     "name": "stdout",
     "output_type": "stream",
     "text": [
      "<class 'pandas.core.frame.DataFrame'>\n",
      "Int64Index: 24617 entries, 0 to 24636\n",
      "Data columns (total 4 columns):\n",
      " #   Column              Non-Null Count  Dtype  \n",
      "---  ------              --------------  -----  \n",
      " 0   original_text       24617 non-null  object \n",
      " 1   polarity            24617 non-null  object \n",
      " 2   subjectivity        24617 non-null  float64\n",
      " 3   possibly_sensitive  9974 non-null   object \n",
      "dtypes: float64(1), object(3)\n",
      "memory usage: 961.6+ KB\n"
     ]
    }
   ],
   "source": [
    "df.info()"
   ]
  },
  {
   "cell_type": "code",
   "execution_count": 130,
   "id": "d65a1f7c-b28e-4d21-b555-91b1c3c3c514",
   "metadata": {},
   "outputs": [
    {
     "name": "stdout",
     "output_type": "stream",
     "text": [
      "/home/hat/dev-env/10Acadamy/week_0/Twitter-Data-Analysis\n",
      "/home/hat/dev-env/10Acadamy/week_0/Twitter-Data-Analysis/notebooks\n"
     ]
    }
   ],
   "source": [
    "%cd ..\n",
    "from clean_tweets_dataframe import Clean_Tweets\n",
    "%cd notebooks"
   ]
  },
  {
   "cell_type": "code",
   "execution_count": 131,
   "id": "0db7ba69-0d9e-4e27-a825-e0048c5d03b0",
   "metadata": {},
   "outputs": [
    {
     "name": "stdout",
     "output_type": "stream",
     "text": [
      "Automation in Action...!!!\n",
      "polarity\n",
      "subjectivity\n",
      "<class 'pandas.core.frame.DataFrame'>\n",
      "Int64Index: 24617 entries, 0 to 24636\n",
      "Data columns (total 4 columns):\n",
      " #   Column              Non-Null Count  Dtype  \n",
      "---  ------              --------------  -----  \n",
      " 0   original_text       24617 non-null  object \n",
      " 1   polarity            24617 non-null  float64\n",
      " 2   subjectivity        24617 non-null  float64\n",
      " 3   possibly_sensitive  9974 non-null   object \n",
      "dtypes: float64(2), object(2)\n",
      "memory usage: 961.6+ KB\n"
     ]
    }
   ],
   "source": [
    "cleaner = Clean_Tweets(df)\n",
    "# df = cleaner.convert_to_numbers()\n",
    "column_names = ['polarity', 'subjectivity']\n",
    "for column in column_names:\n",
    "    print(column)\n",
    "    df[column] = pd.to_numeric(df[column])\n",
    "df.info()"
   ]
  },
  {
   "cell_type": "markdown",
   "id": "7741868a-7e30-4537-b1f6-a160dff9fe5d",
   "metadata": {},
   "source": [
    "There are lots of missing values in the sensitivity colum, so i will drop it"
   ]
  },
  {
   "cell_type": "code",
   "execution_count": 132,
   "id": "9b77430c-0249-4a89-aa85-54dca14b6829",
   "metadata": {},
   "outputs": [
    {
     "data": {
      "text/html": [
       "<div>\n",
       "<style scoped>\n",
       "    .dataframe tbody tr th:only-of-type {\n",
       "        vertical-align: middle;\n",
       "    }\n",
       "\n",
       "    .dataframe tbody tr th {\n",
       "        vertical-align: top;\n",
       "    }\n",
       "\n",
       "    .dataframe thead th {\n",
       "        text-align: right;\n",
       "    }\n",
       "</style>\n",
       "<table border=\"1\" class=\"dataframe\">\n",
       "  <thead>\n",
       "    <tr style=\"text-align: right;\">\n",
       "      <th></th>\n",
       "      <th>original_text</th>\n",
       "      <th>polarity</th>\n",
       "      <th>subjectivity</th>\n",
       "    </tr>\n",
       "  </thead>\n",
       "  <tbody>\n",
       "    <tr>\n",
       "      <th>0</th>\n",
       "      <td>RT @nikitheblogger: Irre: Annalena Baerbock sa...</td>\n",
       "      <td>0.0</td>\n",
       "      <td>0.0</td>\n",
       "    </tr>\n",
       "    <tr>\n",
       "      <th>1</th>\n",
       "      <td>RT @sagt_mit: Merkel schaffte es in 1 Jahr 1 M...</td>\n",
       "      <td>0.0</td>\n",
       "      <td>0.0</td>\n",
       "    </tr>\n",
       "    <tr>\n",
       "      <th>2</th>\n",
       "      <td>RT @Kryptonoun: @WRi007 Pharma in Lebensmittel...</td>\n",
       "      <td>0.0</td>\n",
       "      <td>0.0</td>\n",
       "    </tr>\n",
       "    <tr>\n",
       "      <th>3</th>\n",
       "      <td>RT @WRi007: Die #Deutschen sind ein braves Vol...</td>\n",
       "      <td>0.0</td>\n",
       "      <td>0.0</td>\n",
       "    </tr>\n",
       "    <tr>\n",
       "      <th>4</th>\n",
       "      <td>RT @RolandTichy: Baerbock verkündet mal so neb...</td>\n",
       "      <td>0.0</td>\n",
       "      <td>0.0</td>\n",
       "    </tr>\n",
       "  </tbody>\n",
       "</table>\n",
       "</div>"
      ],
      "text/plain": [
       "                                       original_text  polarity  subjectivity\n",
       "0  RT @nikitheblogger: Irre: Annalena Baerbock sa...       0.0           0.0\n",
       "1  RT @sagt_mit: Merkel schaffte es in 1 Jahr 1 M...       0.0           0.0\n",
       "2  RT @Kryptonoun: @WRi007 Pharma in Lebensmittel...       0.0           0.0\n",
       "3  RT @WRi007: Die #Deutschen sind ein braves Vol...       0.0           0.0\n",
       "4  RT @RolandTichy: Baerbock verkündet mal so neb...       0.0           0.0"
      ]
     },
     "execution_count": 132,
     "metadata": {},
     "output_type": "execute_result"
    }
   ],
   "source": [
    "df = df.drop(columns='possibly_sensitive')\n",
    "df.reset_index(drop=True, inplace=True)\n",
    "df.head()"
   ]
  },
  {
   "cell_type": "code",
   "execution_count": null,
   "id": "a8b1d294-c271-41f3-add3-5494db37f480",
   "metadata": {},
   "outputs": [],
   "source": []
  }
 ],
 "metadata": {
  "kernelspec": {
   "display_name": "Python 3 (ipykernel)",
   "language": "python",
   "name": "python3"
  },
  "language_info": {
   "codemirror_mode": {
    "name": "ipython",
    "version": 3
   },
   "file_extension": ".py",
   "mimetype": "text/x-python",
   "name": "python",
   "nbconvert_exporter": "python",
   "pygments_lexer": "ipython3",
   "version": "3.8.10"
  }
 },
 "nbformat": 4,
 "nbformat_minor": 5
}
