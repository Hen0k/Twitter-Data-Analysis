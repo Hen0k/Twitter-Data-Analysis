{
 "cells": [
  {
   "cell_type": "markdown",
   "id": "2335be8d-3e82-4815-bf5f-b2ccb627c0e7",
   "metadata": {},
   "source": [
    "# Topic Modeling with Twitter Data"
   ]
  },
  {
   "cell_type": "markdown",
   "id": "cd5ac912-6a3b-4c7f-9eb4-adf597ed47d3",
   "metadata": {},
   "source": [
    "## Package Imports"
   ]
  },
  {
   "cell_type": "code",
   "execution_count": 4,
   "id": "5c03cb19-aac0-48c6-a8af-e839a7e161f0",
   "metadata": {},
   "outputs": [],
   "source": [
    "import sys\n",
    "from os import getcwd\n",
    "import pandas as pd\n",
    "\n",
    "import matplotlib.pyplot as plt\n",
    "import seaborn as sns\n",
    "from wordcloud import STOPWORDS, WordCloud\n",
    "import gensim\n",
    "from gensim.models import CoherenceModel\n",
    "from gensim import corpora\n",
    "from pprint import pprint\n",
    "import string\n",
    "import os\n",
    "import re"
   ]
  },
  {
   "cell_type": "markdown",
   "id": "c817f1fa-a245-4e5a-ac50-8416c2398786",
   "metadata": {},
   "source": [
    "We need some code that is inside the parent directory of where we are. Inorder for import to work I will add the\n",
    "parent directory to the system path"
   ]
  },
  {
   "cell_type": "code",
   "execution_count": 5,
   "id": "9df3302d-a817-480a-9ffe-905a2bf840ae",
   "metadata": {},
   "outputs": [],
   "source": [
    "cwd = getcwd()\n",
    "parent = cwd.replace('/notebooks', '')\n",
    "sys.path.insert(0, parent) \n",
    "\n",
    "from extract_dataframe import read_json\n",
    "from extract_dataframe import TweetDfExtractor\n",
    "from clean_tweets_dataframe import CleanTweets\n",
    "from tweets_preprocess import SADataPreparation\n",
    "from utils import DataLoader"
   ]
  },
  {
   "cell_type": "code",
   "execution_count": 6,
   "id": "d19885f2-9d9b-4e69-b5e5-3ef1bbc46ed9",
   "metadata": {},
   "outputs": [],
   "source": [
    "DataLoader_obj= DataLoader(\"../\", \"processed_tweet_data.csv\")"
   ]
  },
  {
   "cell_type": "code",
   "execution_count": 7,
   "id": "43557f35-9c92-49e4-900c-d1f5825cb99d",
   "metadata": {},
   "outputs": [
    {
     "name": "stdout",
     "output_type": "stream",
     "text": [
      "len:  24637\n"
     ]
    },
    {
     "data": {
      "text/html": [
       "<div>\n",
       "<style scoped>\n",
       "    .dataframe tbody tr th:only-of-type {\n",
       "        vertical-align: middle;\n",
       "    }\n",
       "\n",
       "    .dataframe tbody tr th {\n",
       "        vertical-align: top;\n",
       "    }\n",
       "\n",
       "    .dataframe thead th {\n",
       "        text-align: right;\n",
       "    }\n",
       "</style>\n",
       "<table border=\"1\" class=\"dataframe\">\n",
       "  <thead>\n",
       "    <tr style=\"text-align: right;\">\n",
       "      <th></th>\n",
       "      <th>created_at</th>\n",
       "      <th>source</th>\n",
       "      <th>original_text</th>\n",
       "      <th>polarity</th>\n",
       "      <th>subjectivity</th>\n",
       "      <th>lang</th>\n",
       "      <th>favorite_count</th>\n",
       "      <th>retweet_count</th>\n",
       "      <th>original_author</th>\n",
       "      <th>followers_count</th>\n",
       "      <th>friends_count</th>\n",
       "      <th>possibly_sensitive</th>\n",
       "      <th>hashtags</th>\n",
       "      <th>user_mentions</th>\n",
       "      <th>place</th>\n",
       "    </tr>\n",
       "  </thead>\n",
       "  <tbody>\n",
       "    <tr>\n",
       "      <th>0</th>\n",
       "      <td>Fri Apr 22 22:20:18 +0000 2022</td>\n",
       "      <td>Twitter for Android</td>\n",
       "      <td>RT @nikitheblogger: Irre: Annalena Baerbock sa...</td>\n",
       "      <td>0.0</td>\n",
       "      <td>0.0</td>\n",
       "      <td>de</td>\n",
       "      <td>0</td>\n",
       "      <td>355.0</td>\n",
       "      <td>McMc74078966</td>\n",
       "      <td>3</td>\n",
       "      <td>12</td>\n",
       "      <td>NaN</td>\n",
       "      <td>[]</td>\n",
       "      <td>['nikitheblogger']</td>\n",
       "      <td>NaN</td>\n",
       "    </tr>\n",
       "    <tr>\n",
       "      <th>1</th>\n",
       "      <td>Fri Apr 22 22:19:16 +0000 2022</td>\n",
       "      <td>Twitter for Android</td>\n",
       "      <td>RT @sagt_mit: Merkel schaffte es in 1 Jahr 1 M...</td>\n",
       "      <td>0.0</td>\n",
       "      <td>0.0</td>\n",
       "      <td>de</td>\n",
       "      <td>0</td>\n",
       "      <td>505.0</td>\n",
       "      <td>McMc74078966</td>\n",
       "      <td>3</td>\n",
       "      <td>12</td>\n",
       "      <td>NaN</td>\n",
       "      <td>[]</td>\n",
       "      <td>['sagt_mit']</td>\n",
       "      <td>NaN</td>\n",
       "    </tr>\n",
       "    <tr>\n",
       "      <th>2</th>\n",
       "      <td>Fri Apr 22 22:17:28 +0000 2022</td>\n",
       "      <td>Twitter for Android</td>\n",
       "      <td>RT @Kryptonoun: @WRi007 Pharma in Lebensmittel...</td>\n",
       "      <td>0.0</td>\n",
       "      <td>0.0</td>\n",
       "      <td>de</td>\n",
       "      <td>0</td>\n",
       "      <td>4.0</td>\n",
       "      <td>McMc74078966</td>\n",
       "      <td>3</td>\n",
       "      <td>12</td>\n",
       "      <td>NaN</td>\n",
       "      <td>[]</td>\n",
       "      <td>['Kryptonoun', 'WRi007']</td>\n",
       "      <td>NaN</td>\n",
       "    </tr>\n",
       "    <tr>\n",
       "      <th>3</th>\n",
       "      <td>Fri Apr 22 22:17:20 +0000 2022</td>\n",
       "      <td>Twitter for Android</td>\n",
       "      <td>RT @WRi007: Die #Deutschen sind ein braves Vol...</td>\n",
       "      <td>0.0</td>\n",
       "      <td>0.0</td>\n",
       "      <td>de</td>\n",
       "      <td>0</td>\n",
       "      <td>332.0</td>\n",
       "      <td>McMc74078966</td>\n",
       "      <td>3</td>\n",
       "      <td>12</td>\n",
       "      <td>NaN</td>\n",
       "      <td>['Deutschen', 'Spritpreisen', 'inflation', 'Ab...</td>\n",
       "      <td>['WRi007']</td>\n",
       "      <td>NaN</td>\n",
       "    </tr>\n",
       "    <tr>\n",
       "      <th>4</th>\n",
       "      <td>Fri Apr 22 22:13:15 +0000 2022</td>\n",
       "      <td>Twitter for Android</td>\n",
       "      <td>RT @RolandTichy: Baerbock verkündet mal so neb...</td>\n",
       "      <td>0.0</td>\n",
       "      <td>0.0</td>\n",
       "      <td>de</td>\n",
       "      <td>0</td>\n",
       "      <td>386.0</td>\n",
       "      <td>McMc74078966</td>\n",
       "      <td>3</td>\n",
       "      <td>12</td>\n",
       "      <td>NaN</td>\n",
       "      <td>[]</td>\n",
       "      <td>['RolandTichy']</td>\n",
       "      <td>NaN</td>\n",
       "    </tr>\n",
       "  </tbody>\n",
       "</table>\n",
       "</div>"
      ],
      "text/plain": [
       "                       created_at               source  \\\n",
       "0  Fri Apr 22 22:20:18 +0000 2022  Twitter for Android   \n",
       "1  Fri Apr 22 22:19:16 +0000 2022  Twitter for Android   \n",
       "2  Fri Apr 22 22:17:28 +0000 2022  Twitter for Android   \n",
       "3  Fri Apr 22 22:17:20 +0000 2022  Twitter for Android   \n",
       "4  Fri Apr 22 22:13:15 +0000 2022  Twitter for Android   \n",
       "\n",
       "                                       original_text polarity  subjectivity  \\\n",
       "0  RT @nikitheblogger: Irre: Annalena Baerbock sa...      0.0           0.0   \n",
       "1  RT @sagt_mit: Merkel schaffte es in 1 Jahr 1 M...      0.0           0.0   \n",
       "2  RT @Kryptonoun: @WRi007 Pharma in Lebensmittel...      0.0           0.0   \n",
       "3  RT @WRi007: Die #Deutschen sind ein braves Vol...      0.0           0.0   \n",
       "4  RT @RolandTichy: Baerbock verkündet mal so neb...      0.0           0.0   \n",
       "\n",
       "  lang favorite_count  retweet_count original_author followers_count  \\\n",
       "0   de              0          355.0    McMc74078966               3   \n",
       "1   de              0          505.0    McMc74078966               3   \n",
       "2   de              0            4.0    McMc74078966               3   \n",
       "3   de              0          332.0    McMc74078966               3   \n",
       "4   de              0          386.0    McMc74078966               3   \n",
       "\n",
       "  friends_count possibly_sensitive  \\\n",
       "0            12                NaN   \n",
       "1            12                NaN   \n",
       "2            12                NaN   \n",
       "3            12                NaN   \n",
       "4            12                NaN   \n",
       "\n",
       "                                            hashtags  \\\n",
       "0                                                 []   \n",
       "1                                                 []   \n",
       "2                                                 []   \n",
       "3  ['Deutschen', 'Spritpreisen', 'inflation', 'Ab...   \n",
       "4                                                 []   \n",
       "\n",
       "              user_mentions place  \n",
       "0        ['nikitheblogger']   NaN  \n",
       "1              ['sagt_mit']   NaN  \n",
       "2  ['Kryptonoun', 'WRi007']   NaN  \n",
       "3                ['WRi007']   NaN  \n",
       "4           ['RolandTichy']   NaN  "
      ]
     },
     "execution_count": 7,
     "metadata": {},
     "output_type": "execute_result"
    }
   ],
   "source": [
    "tweets_df = DataLoader_obj.read_csv()\n",
    "# tweets_df.dropna()\n",
    "# tweets_df.reset_index(drop=True, inplace=True)\n",
    "print(\"len: \", len(tweets_df))\n",
    "tweets_df.head()"
   ]
  },
  {
   "cell_type": "markdown",
   "id": "fc64cd98-a109-41f8-b34d-0b2a60a737f6",
   "metadata": {},
   "source": [
    "## Text Data Preparation"
   ]
  },
  {
   "cell_type": "markdown",
   "id": "4f3f14dd-3227-4910-8fe2-b4e49fef20cd",
   "metadata": {},
   "source": [
    "## Data Cleaner\n",
    "We have imported the `CleanTweets` class for this task."
   ]
  },
  {
   "cell_type": "code",
   "execution_count": 8,
   "id": "a9661b18-1d32-41fd-9450-590466f168b3",
   "metadata": {},
   "outputs": [
    {
     "name": "stdout",
     "output_type": "stream",
     "text": [
      "Automation in Action...!!!\n",
      "<class 'pandas.core.frame.DataFrame'>\n",
      "RangeIndex: 4307 entries, 0 to 4306\n",
      "Data columns (total 15 columns):\n",
      " #   Column              Non-Null Count  Dtype              \n",
      "---  ------              --------------  -----              \n",
      " 0   created_at          4307 non-null   datetime64[ns, UTC]\n",
      " 1   source              4307 non-null   object             \n",
      " 2   original_text       4307 non-null   object             \n",
      " 3   polarity            4307 non-null   float64            \n",
      " 4   subjectivity        4307 non-null   float64            \n",
      " 5   lang                4307 non-null   object             \n",
      " 6   favorite_count      4307 non-null   int64              \n",
      " 7   retweet_count       4307 non-null   float64            \n",
      " 8   original_author     4307 non-null   object             \n",
      " 9   followers_count     4307 non-null   int64              \n",
      " 10  friends_count       4307 non-null   int64              \n",
      " 11  possibly_sensitive  4307 non-null   object             \n",
      " 12  hashtags            4307 non-null   object             \n",
      " 13  user_mentions       4307 non-null   object             \n",
      " 14  place               4307 non-null   object             \n",
      "dtypes: datetime64[ns, UTC](1), float64(3), int64(3), object(8)\n",
      "memory usage: 504.9+ KB\n"
     ]
    }
   ],
   "source": [
    "cleaner = CleanTweets()\n",
    "cleaned_df = cleaner.run_pipeline(tweets_df)\n",
    "cleaned_df.info()"
   ]
  },
  {
   "cell_type": "code",
   "execution_count": 9,
   "id": "ca5f7619-450c-4636-8b95-f4d824d1f7ee",
   "metadata": {},
   "outputs": [],
   "source": [
    "class PrepareData:\n",
    "    def __init__(self,df):\n",
    "        self.df=df\n",
    "\n",
    "    def preprocess_data(self):\n",
    "        tweets_df = self.df.loc[self.df['lang'] ==\"en\"]\n",
    "\n",
    "\n",
    "        #text Preprocessing\n",
    "        tweets_df['original_text'] = tweets_df['original_text'].astype(str)\n",
    "        tweets_df['original_text'] = tweets_df['original_text'].apply(\n",
    "            lambda x: x.lower())\n",
    "        tweets_df['original_text']= tweets_df['original_text'].apply(\n",
    "            lambda x: x.translate(str.maketrans(' ', ' ', string.punctuation)))\n",
    "\n",
    "        #Converting tweets to list of words For feature engineering\n",
    "        sentence_list = [tweet for tweet in tweets_df['original_text']]\n",
    "        word_list = [sent.split() for sent in sentence_list]\n",
    "\n",
    "        #Create dictionary which contains Id and word \n",
    "        word_to_id = corpora.Dictionary(word_list)\n",
    "        corpus_1= [word_to_id.doc2bow(tweet) for tweet in word_list]\n",
    "\n",
    "\n",
    "\n",
    "\n",
    "        return word_list, word_to_id, corpus_1"
   ]
  },
  {
   "cell_type": "code",
   "execution_count": 10,
   "id": "1ce3fa9a-bae1-4282-87f4-ab984e4f9fa0",
   "metadata": {},
   "outputs": [],
   "source": [
    "PrepareData_obj=PrepareData(tweets_df)\n",
    "word_list ,id2word,corpus=PrepareData_obj.preprocess_data()"
   ]
  },
  {
   "cell_type": "code",
   "execution_count": 11,
   "id": "560d4c7a-0c21-4bf6-add7-ed3a9b07da95",
   "metadata": {},
   "outputs": [
    {
     "name": "stdout",
     "output_type": "stream",
     "text": [
      "16465\n"
     ]
    }
   ],
   "source": [
    "print(len(corpus))"
   ]
  },
  {
   "cell_type": "markdown",
   "id": "8a01dc34-fe70-40ed-9524-eb180ed7d03c",
   "metadata": {},
   "source": [
    "### Topic Modeling using Latent Dirichlet Allocation \n",
    "based on the distributional hypothesis, (i.e. similar topics make use of similar words) and the statistical mixture hypothesis (i.e. documents talk about several topics) for which a statistical distribution can be determined. \n",
    "\n",
    "*  The purpose of LDA is mapping each teweets in our corpus to a set of topics \n",
    "which covers a good deal of the words in the tweet"
   ]
  },
  {
   "cell_type": "code",
   "execution_count": 12,
   "id": "ce8e280c-955d-409b-8d5b-7176a97e0699",
   "metadata": {},
   "outputs": [],
   "source": [
    "# Build LDA model\n",
    "lda_model = gensim.models.ldamodel.LdaModel(corpus,\n",
    "                                           id2word=id2word,\n",
    "                                           num_topics=3, \n",
    "                                           random_state=100,\n",
    "                                           update_every=1,\n",
    "                                           chunksize=512,\n",
    "                                           passes=5,\n",
    "                                           alpha='auto',\n",
    "                                           per_word_topics=True)"
   ]
  },
  {
   "cell_type": "code",
   "execution_count": 14,
   "id": "15bb7dce-6cb0-4661-bb02-f99c8c72398e",
   "metadata": {},
   "outputs": [
    {
     "name": "stdout",
     "output_type": "stream",
     "text": [
      "[(0,\n",
      "  [('we', 0.016874667),\n",
      "   ('our', 0.009928418),\n",
      "   ('please', 0.005698203),\n",
      "   ('president', 0.004345086),\n",
      "   ('man', 0.003346508),\n",
      "   ('thank', 0.0032037112),\n",
      "   ('details', 0.0031766891),\n",
      "   ('love', 0.0031146999),\n",
      "   ('🟩🟩🟩🟩🟩', 0.0030106565),\n",
      "   ('pnpkakampimo', 0.0029432138)]),\n",
      " (1,\n",
      "  [('the', 0.04357081),\n",
      "   ('rt', 0.037276402),\n",
      "   ('to', 0.028883902),\n",
      "   ('of', 0.02274348),\n",
      "   ('in', 0.019179167),\n",
      "   ('a', 0.019001065),\n",
      "   ('and', 0.016870314),\n",
      "   ('is', 0.01582212),\n",
      "   ('for', 0.013602853),\n",
      "   ('on', 0.010785839)]),\n",
      " (2,\n",
      "  [('india', 0.01583555),\n",
      "   ('aitcofficial', 0.008558942),\n",
      "   ('srilanka', 0.008279453),\n",
      "   ('lka', 0.005601042),\n",
      "   ('sri', 0.0050456594),\n",
      "   ('cartoon', 0.0046119452),\n",
      "   ('mamataofficial', 0.0044812784),\n",
      "   ('ukraine', 0.0039761323),\n",
      "   ('economiccrisislk', 0.0036615052),\n",
      "   ('lanka', 0.0032493053)])]\n"
     ]
    }
   ],
   "source": [
    "pprint(lda_model.show_topics(formatted=False))"
   ]
  },
  {
   "cell_type": "markdown",
   "id": "ba8019fe-08c2-49f3-8745-a2d09d6fc41a",
   "metadata": {},
   "source": [
    "# **Model Analysis**\n",
    "\n",
    "Perplexity is also a measure of model quality and in natural language processing is often used as “perplexity per number of words”. It describes how well a model predicts a sample, i.e. how much it is “perplexed” by a sample from the observed data. The lower the score, the better the model for the given data.\n",
    "\n",
    "A coherence matrix is used to test the model for accuracy. Topic coherence is a measure that compares different topic models based on their human-interpretability. The coherence score ‘C_V’ provides a numerical value to the interpretability of the topics"
   ]
  },
  {
   "cell_type": "code",
   "execution_count": 15,
   "id": "b8d124e9-6ae4-4ed5-b872-050a2b171a84",
   "metadata": {},
   "outputs": [
    {
     "name": "stdout",
     "output_type": "stream",
     "text": [
      "\n",
      "Perplexity:  -8.802934203688965\n",
      "\n",
      " Ldamodel Coherence Score/Accuracy on Tweets:  0.40493752279116224\n"
     ]
    }
   ],
   "source": [
    "# Compute Perplexity\n",
    "\n",
    "#It's a measure of how good the model is. The lower the better. Perplexity is a negative value\n",
    "print('\\nPerplexity: ', lda_model.log_perplexity(corpus))  \n",
    "doc_lda = lda_model[corpus]\n",
    "\n",
    "\n",
    "# Compute Coherence Score\n",
    "coherence_model_lda = CoherenceModel(model=lda_model, texts=word_list, dictionary=id2word, coherence='c_v')\n",
    "coherence_lda = coherence_model_lda.get_coherence()\n",
    "print('\\n Ldamodel Coherence Score/Accuracy on Tweets: ', coherence_lda)"
   ]
  },
  {
   "cell_type": "markdown",
   "id": "82b397ba-8e41-4302-82ab-0ef5d89bd29b",
   "metadata": {},
   "source": [
    "**Anlayizing results**\n",
    "Exploring the Intertopic Distance Plot can help you learn about how topics relate to each other, including potential higher-level structure between groups of topics"
   ]
  },
  {
   "cell_type": "code",
   "execution_count": 16,
   "id": "4b81f6e2-204d-4d75-9761-7d416d378e59",
   "metadata": {},
   "outputs": [
    {
     "name": "stderr",
     "output_type": "stream",
     "text": [
      "/home/hat/dev-env/10Acadamy/week_0/Twitter-Data-Analysis/.env/lib/python3.8/site-packages/past/builtins/misc.py:45: DeprecationWarning: the imp module is deprecated in favour of importlib; see the module's documentation for alternative uses\n",
      "  from imp import reload\n"
     ]
    },
    {
     "data": {
      "text/html": [
       "\n",
       "<link rel=\"stylesheet\" type=\"text/css\" href=\"https://cdn.jsdelivr.net/gh/bmabey/pyLDAvis@3.3.1/pyLDAvis/js/ldavis.v1.0.0.css\">\n",
       "\n",
       "\n",
       "<div id=\"ldavis_el179381402081741113125182812908\"></div>\n",
       "<script type=\"text/javascript\">\n",
       "\n",
       "var ldavis_el179381402081741113125182812908_data = {\"mdsDat\": {\"x\": [0.2726855504363407, -0.12039910378082055, -0.15228644665552044], \"y\": [0.01158941536720902, -0.15445554723964444, 0.14286613187243535], \"topics\": [1, 2, 3], \"cluster\": [1, 1, 1], \"Freq\": [75.02952644080617, 14.685262742189398, 10.285210817004446]}, \"tinfo\": {\"Term\": [\"the\", \"rt\", \"to\", \"we\", \"of\", \"in\", \"india\", \"a\", \"and\", \"our\", \"is\", \"on\", \"aitcofficial\", \"srilanka\", \"please\", \"for\", \"it\", \"this\", \"i\", \"lka\", \"with\", \"sri\", \"president\", \"that\", \"cartoon\", \"mamataofficial\", \"are\", \"at\", \"minister\", \"details\", \"the\", \"to\", \"in\", \"it\", \"i\", \"this\", \"of\", \"at\", \"amp\", \"has\", \"was\", \"from\", \"its\", \"as\", \"up\", \"with\", \"if\", \"they\", \"no\", \"one\", \"about\", \"but\", \"more\", \"out\", \"now\", \"my\", \"just\", \"have\", \"all\", \"there\", \"rt\", \"a\", \"and\", \"is\", \"on\", \"that\", \"for\", \"are\", \"by\", \"not\", \"you\", \"will\", \"be\", \"\\ud83d\\udfe9\\ud83d\\udfe9\\ud83d\\udfe9\\ud83d\\udfe9\\ud83d\\udfe9\", \"thank\", \"love\", \"state\", \"\\u2b1c\\u2b1c\\u2b1c\\u2b1c\\u2b1c\", \"lets\", \"man\", \"media\", \"wordle\", \"pnpkakampimo\", \"covid19\", \"leader\", \"weserveandprotect\", \"court\", \"teampnp\", \"towards\", \"justice\", \"social\", \"bjp4india\", \"meet\", \"god\", \"look\", \"cannot\", \"morning\", \"ready\", \"ansar\", \"strength\", \"anyone\", \"video\", \"show\", \"president\", \"protest\", \"please\", \"levels\", \"british\", \"we\", \"httpstcouiayywikne\", \"pcadgwesternmindanao\", \"working\", \"must\", \"9pcadg\", \"late\", \"our\", \"stop\", \"bjp\", \"details\", \"peace\", \"should\", \"hate\", \"india\", \"srilanka\", \"aitcofficial\", \"mamataofficial\", \"ukraine\", \"cartoon\", \"lka\", \"petrol\", \"economiccrisislk\", \"uk\", \"russia\", \"russian\", \"abhishekaitc\", \"rs\", \"welcome\", \"ukrainian\", \"modi\", \"indian\", \"diesel\", \"bengal\", \"lanka\", \"cases\", \"srilankacrisis\", \"narendramodi\\u2019s\", \"war\", \"ji\", \"fuelpricehike\", \"nifty\", \"ukraine\\ufe0f\", \"edition\", \"coal\", \"srilankaprotests\", \"poetry\", \"sri\", \"borisjohnson\", \"rahulgandhi\", \"shayari\", \"minister\"], \"Freq\": [9256.0, 7935.0, 6136.0, 776.0, 4832.0, 4075.0, 461.0, 4043.0, 3591.0, 543.0, 3375.0, 2294.0, 250.0, 242.0, 244.0, 2928.0, 1420.0, 1391.0, 1367.0, 164.0, 1401.0, 159.0, 183.0, 1402.0, 135.0, 131.0, 1548.0, 1061.0, 157.0, 173.0, 9254.61794655171, 6135.058926810873, 4073.7335159231625, 1420.2574967681605, 1367.255869062129, 1391.1276986832167, 4830.80817816482, 1060.3129593236981, 1026.8098291545207, 925.5391409933715, 742.7369557041046, 960.6818750606928, 681.260562913638, 787.294282100849, 619.2382948795291, 1400.7198315204016, 610.319183983885, 755.0537666123594, 668.124048964672, 588.8912810515371, 642.0833073522437, 546.8022128003066, 534.7215950578097, 521.851886412291, 548.8710295304467, 451.9269392530198, 452.465989819762, 1058.4572406570528, 857.3569591526319, 405.8014207946795, 7917.660181133123, 4035.903837324443, 3583.323707256237, 3360.682965104798, 2290.956204718564, 1397.0970160784507, 2889.301542535511, 1537.2716265457298, 982.3872159452815, 992.3478813350685, 1805.6012067422673, 853.0998443924208, 954.068268602751, 125.16231485593619, 133.188200414018, 129.48772128716226, 122.3507517942092, 107.81051064917182, 102.56283262648788, 139.1247000618205, 97.66867865723343, 81.41406412558725, 122.35851474607107, 100.33022896589932, 92.69897625994686, 121.40696269403698, 80.86597746131088, 116.23460079159877, 80.09854384922721, 58.42822984864524, 74.2559013868717, 57.81565357491801, 79.71870609924353, 65.5041991886888, 64.719545761939, 55.90580770529898, 57.08368077847761, 57.76218890582955, 50.76026283295212, 55.92445040515675, 63.78109974085373, 50.085408713490274, 72.44923405262851, 180.63868225911176, 91.24732362076251, 236.8919546564119, 110.18543186739731, 66.73680978403549, 701.5321907789759, 99.62458438524975, 102.64532124963839, 121.56649038684894, 87.20196422602916, 122.14958293068689, 68.8951959466181, 412.75510510969445, 98.1125414010952, 95.84243939198693, 132.0648083564933, 86.07985954082069, 103.57874361484299, 85.59762729424024, 461.0807660171889, 241.07129986881245, 249.20912851993438, 130.48055169272425, 115.77230615385788, 134.28515518798426, 163.0845006792387, 74.1898969640178, 106.61136789012363, 83.59457092288415, 70.33645548728944, 65.89592100207403, 85.94254297891635, 69.53691997112976, 58.378986882981785, 57.38897374809414, 66.21181542496143, 66.63176511958086, 47.88245456496363, 81.03071926081667, 94.609420385703, 49.574737399920295, 68.28162656794144, 41.046635381757724, 64.1398484688072, 67.94280459739637, 61.03038625363925, 47.67292715057686, 47.257661943074936, 31.746647168287588, 56.08571350177987, 50.49996089170786, 60.22886440647315, 146.91352912239103, 65.37931901681131, 57.89795581509335, 57.926455936427736, 91.15903462110947], \"Total\": [9256.0, 7935.0, 6136.0, 776.0, 4832.0, 4075.0, 461.0, 4043.0, 3591.0, 543.0, 3375.0, 2294.0, 250.0, 242.0, 244.0, 2928.0, 1420.0, 1391.0, 1367.0, 164.0, 1401.0, 159.0, 183.0, 1402.0, 135.0, 131.0, 1548.0, 1061.0, 157.0, 173.0, 9256.886252560507, 6136.908384917455, 4075.1454820543026, 1420.7689872739265, 1367.7584551934503, 1391.6902703338903, 4832.967660396862, 1061.0088334349862, 1027.485378766834, 926.1552245248962, 743.243924407066, 961.3400049635287, 681.7709363041993, 787.8904090444414, 619.7451258913236, 1401.8792579715014, 610.8341780491605, 755.7002037011333, 668.7210950935772, 589.4277510837829, 642.692425522332, 547.3380317616738, 535.2463078790873, 522.3640604647959, 549.4692687424097, 452.42008045206904, 452.9651208810643, 1059.6628007413542, 858.3662606905306, 406.30939265035653, 7935.9817846529595, 4043.7145524839684, 3591.3198403077035, 3375.3085058796833, 2294.957325782037, 1402.0804493815306, 2928.0723534655517, 1548.334701385619, 985.5376560054918, 995.8017105894725, 1861.8158595047005, 863.9762212850426, 1007.3137072651976, 125.77780246036606, 133.87388395509092, 130.16537539173135, 123.02220107116344, 108.48142868399897, 103.27896273290453, 140.13514113891557, 98.41266493086206, 82.03709629657773, 123.33871458415557, 101.1543395501295, 93.46461342584088, 122.41265490136398, 81.5935587994534, 117.30223487663164, 80.884282808066, 59.02444782270194, 75.0395370482745, 58.43062356889417, 80.62075877042331, 66.24544205674127, 65.45426502561942, 56.544176822450304, 57.73627793596307, 58.430735986893325, 51.348686591850104, 56.596186595704964, 64.59599491751689, 50.7357977923477, 73.40650851225172, 183.7649201608628, 92.7735349845771, 244.92253283074282, 112.39632492322602, 67.73297997494086, 776.9935571822502, 102.60051244167784, 105.98487815082905, 127.81533237489445, 90.35942010738603, 132.19019872208108, 70.15404492471197, 543.4623393363136, 104.87742244489857, 103.30546667804784, 173.0083499869679, 95.53165411588519, 188.95378008326315, 126.69203910910404, 461.8875829765678, 242.5023121108901, 250.7456438863056, 131.28714946432305, 116.55188935590613, 135.21216312025314, 164.25105394503308, 74.83251083456767, 107.56912193927216, 84.34882268563658, 71.0037948194013, 66.53554079384715, 86.80513036279416, 70.28998491538955, 59.02720729008445, 58.02748950576116, 66.97042676082837, 67.44461498223937, 48.4963026110803, 82.07489983341077, 95.93062531397987, 50.32387658577243, 69.34310450496041, 41.68626616530566, 65.18086516679669, 69.0701100761916, 62.10908241526276, 48.56273438088194, 48.14616081211878, 32.35348769265391, 57.18977159315493, 51.52225009287666, 61.9022211397568, 159.1833493990781, 68.18498499315537, 59.95955141856197, 63.11402765348839, 157.5725267517514], \"Category\": [\"Default\", \"Default\", \"Default\", \"Default\", \"Default\", \"Default\", \"Default\", \"Default\", \"Default\", \"Default\", \"Default\", \"Default\", \"Default\", \"Default\", \"Default\", \"Default\", \"Default\", \"Default\", \"Default\", \"Default\", \"Default\", \"Default\", \"Default\", \"Default\", \"Default\", \"Default\", \"Default\", \"Default\", \"Default\", \"Default\", \"Topic1\", \"Topic1\", \"Topic1\", \"Topic1\", \"Topic1\", \"Topic1\", \"Topic1\", \"Topic1\", \"Topic1\", \"Topic1\", \"Topic1\", \"Topic1\", \"Topic1\", \"Topic1\", \"Topic1\", \"Topic1\", \"Topic1\", \"Topic1\", \"Topic1\", \"Topic1\", \"Topic1\", \"Topic1\", \"Topic1\", \"Topic1\", \"Topic1\", \"Topic1\", \"Topic1\", \"Topic1\", \"Topic1\", \"Topic1\", \"Topic1\", \"Topic1\", \"Topic1\", \"Topic1\", \"Topic1\", \"Topic1\", \"Topic1\", \"Topic1\", \"Topic1\", \"Topic1\", \"Topic1\", \"Topic1\", \"Topic1\", \"Topic2\", \"Topic2\", \"Topic2\", \"Topic2\", \"Topic2\", \"Topic2\", \"Topic2\", \"Topic2\", \"Topic2\", \"Topic2\", \"Topic2\", \"Topic2\", \"Topic2\", \"Topic2\", \"Topic2\", \"Topic2\", \"Topic2\", \"Topic2\", \"Topic2\", \"Topic2\", \"Topic2\", \"Topic2\", \"Topic2\", \"Topic2\", \"Topic2\", \"Topic2\", \"Topic2\", \"Topic2\", \"Topic2\", \"Topic2\", \"Topic2\", \"Topic2\", \"Topic2\", \"Topic2\", \"Topic2\", \"Topic2\", \"Topic2\", \"Topic2\", \"Topic2\", \"Topic2\", \"Topic2\", \"Topic2\", \"Topic2\", \"Topic2\", \"Topic2\", \"Topic2\", \"Topic2\", \"Topic2\", \"Topic2\", \"Topic3\", \"Topic3\", \"Topic3\", \"Topic3\", \"Topic3\", \"Topic3\", \"Topic3\", \"Topic3\", \"Topic3\", \"Topic3\", \"Topic3\", \"Topic3\", \"Topic3\", \"Topic3\", \"Topic3\", \"Topic3\", \"Topic3\", \"Topic3\", \"Topic3\", \"Topic3\", \"Topic3\", \"Topic3\", \"Topic3\", \"Topic3\", \"Topic3\", \"Topic3\", \"Topic3\", \"Topic3\", \"Topic3\", \"Topic3\", \"Topic3\", \"Topic3\", \"Topic3\", \"Topic3\", \"Topic3\", \"Topic3\", \"Topic3\", \"Topic3\"], \"logprob\": [30.0, 29.0, 28.0, 27.0, 26.0, 25.0, 24.0, 23.0, 22.0, 21.0, 20.0, 19.0, 18.0, 17.0, 16.0, 15.0, 14.0, 13.0, 12.0, 11.0, 10.0, 9.0, 8.0, 7.0, 6.0, 5.0, 4.0, 3.0, 2.0, 1.0, -3.1334, -3.5445, -3.9539, -5.0077, -5.0457, -5.0284, -3.7835, -5.2999, -5.332, -5.4359, -5.6559, -5.3986, -5.7423, -5.5976, -5.8378, -5.0215, -5.8523, -5.6395, -5.7618, -5.888, -5.8015, -5.9622, -5.9845, -6.0089, -5.9584, -6.1527, -6.1515, -5.3017, -5.5124, -6.2604, -3.2894, -3.9633, -4.0822, -4.1463, -4.5295, -5.0241, -4.2975, -4.9285, -5.3763, -5.3662, -4.7676, -5.5174, -5.4055, -5.8056, -5.7434, -5.7716, -5.8283, -5.9548, -6.0047, -5.6998, -6.0536, -6.2357, -5.8283, -6.0267, -6.1059, -5.8361, -6.2424, -5.8796, -6.252, -6.5674, -6.3277, -6.5779, -6.2567, -6.4531, -6.4651, -6.6115, -6.5907, -6.5789, -6.7081, -6.6112, -6.4798, -6.7215, -6.3523, -5.4387, -6.1216, -5.1676, -5.933, -6.4345, -4.0819, -6.0338, -6.0039, -5.8347, -6.167, -5.83, -6.4026, -4.6124, -6.0491, -6.0725, -5.7519, -6.1799, -5.9949, -6.1856, -4.1455, -4.794, -4.7608, -5.4078, -5.5274, -5.3791, -5.1848, -5.9724, -5.6099, -5.8531, -6.0258, -6.091, -5.8254, -6.0372, -6.2121, -6.2292, -6.0862, -6.0799, -6.4103, -5.8842, -5.7293, -6.3756, -6.0554, -6.5644, -6.118, -6.0604, -6.1677, -6.4147, -6.4235, -6.8213, -6.2522, -6.3571, -6.1809, -5.2892, -6.0989, -6.2204, -6.2199, -5.7665], \"loglift\": [30.0, 29.0, 28.0, 27.0, 26.0, 25.0, 24.0, 23.0, 22.0, 21.0, 20.0, 19.0, 18.0, 17.0, 16.0, 15.0, 14.0, 13.0, 12.0, 11.0, 10.0, 9.0, 8.0, 7.0, 6.0, 5.0, 4.0, 3.0, 2.0, 1.0, 0.287, 0.287, 0.2869, 0.2869, 0.2869, 0.2869, 0.2868, 0.2866, 0.2866, 0.2866, 0.2866, 0.2866, 0.2865, 0.2865, 0.2865, 0.2865, 0.2864, 0.2864, 0.2864, 0.2864, 0.2863, 0.2863, 0.2863, 0.2863, 0.2862, 0.2862, 0.2862, 0.2862, 0.2861, 0.286, 0.285, 0.2854, 0.2851, 0.2829, 0.2855, 0.2837, 0.274, 0.2801, 0.2841, 0.2838, 0.2566, 0.2746, 0.233, 1.9134, 1.9132, 1.9131, 1.9129, 1.9121, 1.9114, 1.9111, 1.9107, 1.9107, 1.9103, 1.9101, 1.9101, 1.9101, 1.9094, 1.9092, 1.9086, 1.9082, 1.9078, 1.9077, 1.9071, 1.9071, 1.907, 1.907, 1.907, 1.9068, 1.9068, 1.9064, 1.9056, 1.9054, 1.9052, 1.9012, 1.9017, 1.885, 1.8985, 1.9035, 1.8162, 1.8889, 1.8863, 1.8682, 1.8828, 1.8393, 1.9002, 1.6432, 1.8516, 1.8433, 1.6483, 1.8141, 1.3172, 1.5262, 2.2727, 2.2685, 2.2683, 2.2683, 2.2678, 2.2676, 2.2673, 2.2658, 2.2655, 2.2655, 2.265, 2.2648, 2.2645, 2.2637, 2.2634, 2.2634, 2.2631, 2.2623, 2.2617, 2.2617, 2.2606, 2.2595, 2.259, 2.259, 2.2584, 2.258, 2.2569, 2.256, 2.2558, 2.2555, 2.255, 2.2544, 2.2471, 2.1943, 2.2324, 2.2395, 2.1887, 1.7272]}, \"token.table\": {\"Topic\": [1, 2, 1, 2, 1, 3, 1, 1, 3, 1, 2, 1, 1, 2, 2, 1, 2, 1, 2, 1, 1, 1, 2, 1, 3, 1, 2, 2, 1, 3, 1, 2, 1, 1, 2, 2, 1, 3, 3, 1, 3, 2, 2, 1, 2, 3, 1, 3, 3, 1, 2, 1, 1, 3, 1, 2, 1, 1, 2, 1, 2, 1, 2, 1, 1, 1, 3, 1, 3, 1, 3, 1, 2, 1, 1, 1, 3, 1, 2, 1, 3, 1, 2, 1, 2, 2, 1, 2, 1, 3, 2, 2, 3, 1, 2, 1, 2, 1, 2, 1, 3, 3, 1, 2, 1, 2, 1, 3, 1, 3, 1, 1, 2, 1, 1, 2, 1, 2, 1, 1, 2, 1, 1, 2, 1, 2, 3, 3, 1, 2, 1, 2, 1, 2, 3, 1, 2, 1, 2, 1, 2, 3, 2, 3, 1, 2, 3, 3, 3, 1, 2, 3, 1, 2, 1, 2, 1, 2, 1, 3, 1, 3, 1, 3, 1, 3, 2, 1, 2, 2, 1, 2, 2, 1, 2, 1, 2, 1, 1, 1, 1, 2, 2, 3, 1, 3, 1, 3, 3, 1, 2, 1, 3, 1, 1, 2, 3, 1, 2, 1, 2, 1, 2, 2, 1, 2, 1, 2, 2, 2], \"Freq\": [0.07564857377228223, 0.9229126000218434, 0.9980922114101181, 0.001978379011714803, 0.011520056427777838, 0.990724852788894, 0.9989226175774994, 0.003988105175033172, 0.9930381885832597, 0.9984083010329047, 0.00116500385184703, 0.9995276051836217, 0.9976833474383638, 0.0022275932959829503, 0.9932094350412178, 0.015480835944657366, 0.9907735004580714, 0.9926794243031075, 0.0071044070704841785, 0.9988698821127657, 0.9990491752724432, 0.9470733825215766, 0.05261518791786537, 0.01218399293851984, 0.986903428020107, 0.0677602088746721, 0.9292828645669317, 0.9926301733133751, 0.043997956445999804, 0.9532890563299957, 0.014763856549202021, 0.9891783887965354, 0.9993824076858211, 0.9964104304042218, 0.0030440237181391704, 0.9903760766708298, 0.00739578435048505, 0.9910351029649968, 0.9935641566638768, 0.017485644235720126, 0.979196077200327, 0.9927254208765143, 0.9885883338741246, 0.23698278148475715, 0.7629689550240962, 0.9897661762988317, 0.009296348078071578, 0.9947092443536588, 0.9890742013345853, 0.9866559467291486, 0.01331934299842049, 0.9996463218405838, 0.01610070477799007, 0.982142991457394, 0.015095378171730955, 0.9962949593342431, 0.9998323990182361, 0.3236193867295152, 0.6788113965545928, 0.9984308208798206, 0.0009436964280527605, 0.02923962004288544, 0.9746540014295146, 0.9994454757778536, 0.9986343625174599, 0.9997189101445956, 0.0002453900123084427, 0.0021650289742704155, 0.9980783571386616, 0.014826980630897463, 0.99340770227013, 0.9957608302012221, 0.004147769004111012, 0.9994587527734526, 0.9988692150645517, 0.014478042656901731, 0.9845069006693177, 0.9978693262757471, 0.9826436695218365, 0.01042419974567049, 0.9902989758386965, 0.014254345577267591, 0.9835498448314638, 0.010699236463364244, 0.9950289910928747, 0.9972989394401067, 0.01779417611177349, 0.9786796861475421, 0.006088240994390526, 0.9923832820856556, 0.9930598101523007, 0.9910469632325482, 0.9901959219194348, 0.007135968836030235, 0.9918996682082026, 0.010161293779642396, 0.9958067904049548, 0.012403753267165503, 0.9923002613732402, 0.4188547417531744, 0.5775118409021041, 0.9855096225637913, 0.9995398233010456, 0.9872475683870773, 0.03320074427696309, 0.9628215840319295, 0.9990714814168963, 0.983537355862377, 0.020591921207667365, 0.9884122179680336, 0.9989216803554308, 0.9961822614391553, 0.003012647968061962, 0.9991459599851986, 0.9995928670466833, 0.0004138244119423238, 0.9982756429770699, 0.0017429517991742818, 0.9992742942913759, 0.23920700771788242, 0.7599422629806573, 0.9993030522343517, 0.028305924886101622, 0.9718367544228224, 0.09420961128844793, 0.9002251745340579, 0.010467734587605325, 0.9888750113382123, 0.032663389144062596, 0.9676529033928544, 0.008107754352488304, 0.9891460310035731, 0.016154509185418362, 0.016154509185418362, 0.9692705511251019, 0.016325205035726525, 0.9849540371555002, 0.010778936042118504, 0.9808831798327838, 0.016677909963322794, 0.016677909963322794, 0.967318777872722, 0.9926282635394162, 0.9958744490308453, 0.9977341449185615, 0.0022681503673319153, 0.00012600835374066197, 0.9858628004044788, 0.991951056721603, 0.04753301463298684, 0.031688676421991226, 0.9189716162377456, 0.4498454593633663, 0.5503991502798834, 0.013622770245680567, 0.9808394576890008, 0.013326308228110192, 0.9861468088801542, 0.07538476885491076, 0.9234634184726568, 0.004123672023146425, 0.9938049575782885, 0.01442104456007541, 0.980631030085128, 0.019409090212429553, 0.9704545106214776, 0.9916909219452826, 0.0667445846476416, 0.9344241850669824, 0.9894659581931937, 0.00852498676646454, 0.9888984649098866, 0.9934723343398024, 0.9963764922449553, 0.0035661291776841633, 0.999796232500968, 0.00021605537169118704, 0.9992385294163683, 0.999073437194136, 0.9995040057772878, 0.999689031545241, 0.0003258969947987746, 0.9890673097743309, 0.9958645221767158, 0.00857986949440495, 0.9952648613509743, 0.02077008806376711, 0.9761941389970541, 0.9822930560237464, 0.9987976897918286, 0.9854974628494227, 0.015341925846504454, 0.9818832541762851, 0.9996718110985428, 0.0965258969096035, 0.9034823950738887, 0.9825977318385347, 0.008169090040615216, 0.9884598949144412, 0.9872956905356527, 0.012731831882640304, 0.9993728004986866, 0.0007133281945029883, 0.9873582032593102, 0.04694272501206219, 0.9545020752452645, 0.9700207411921234, 0.030078162517585223, 0.9955621096639375, 0.9938160593908361], \"Term\": [\"9pcadg\", \"9pcadg\", \"a\", \"a\", \"abhishekaitc\", \"abhishekaitc\", \"about\", \"aitcofficial\", \"aitcofficial\", \"all\", \"all\", \"amp\", \"and\", \"and\", \"ansar\", \"anyone\", \"anyone\", \"are\", \"are\", \"as\", \"at\", \"be\", \"be\", \"bengal\", \"bengal\", \"bjp\", \"bjp\", \"bjp4india\", \"borisjohnson\", \"borisjohnson\", \"british\", \"british\", \"but\", \"by\", \"by\", \"cannot\", \"cartoon\", \"cartoon\", \"cases\", \"coal\", \"coal\", \"court\", \"covid19\", \"details\", \"details\", \"diesel\", \"economiccrisislk\", \"economiccrisislk\", \"edition\", \"for\", \"for\", \"from\", \"fuelpricehike\", \"fuelpricehike\", \"god\", \"god\", \"has\", \"hate\", \"hate\", \"have\", \"have\", \"httpstcouiayywikne\", \"httpstcouiayywikne\", \"i\", \"if\", \"in\", \"in\", \"india\", \"india\", \"indian\", \"indian\", \"is\", \"is\", \"it\", \"its\", \"ji\", \"ji\", \"just\", \"justice\", \"lanka\", \"lanka\", \"late\", \"late\", \"leader\", \"leader\", \"lets\", \"levels\", \"levels\", \"lka\", \"lka\", \"look\", \"love\", \"mamataofficial\", \"man\", \"man\", \"media\", \"media\", \"meet\", \"meet\", \"minister\", \"minister\", \"modi\", \"more\", \"morning\", \"must\", \"must\", \"my\", \"narendramodi\\u2019s\", \"nifty\", \"nifty\", \"no\", \"not\", \"not\", \"now\", \"of\", \"of\", \"on\", \"on\", \"one\", \"our\", \"our\", \"out\", \"pcadgwesternmindanao\", \"pcadgwesternmindanao\", \"peace\", \"peace\", \"peace\", \"petrol\", \"please\", \"please\", \"pnpkakampimo\", \"pnpkakampimo\", \"poetry\", \"poetry\", \"poetry\", \"president\", \"president\", \"protest\", \"protest\", \"rahulgandhi\", \"rahulgandhi\", \"rahulgandhi\", \"ready\", \"rs\", \"rt\", \"rt\", \"rt\", \"russia\", \"russian\", \"shayari\", \"shayari\", \"shayari\", \"should\", \"should\", \"show\", \"show\", \"social\", \"social\", \"sri\", \"sri\", \"srilanka\", \"srilanka\", \"srilankacrisis\", \"srilankacrisis\", \"srilankaprotests\", \"srilankaprotests\", \"state\", \"stop\", \"stop\", \"strength\", \"teampnp\", \"teampnp\", \"thank\", \"that\", \"that\", \"the\", \"the\", \"there\", \"they\", \"this\", \"to\", \"to\", \"towards\", \"uk\", \"ukraine\", \"ukraine\", \"ukraine\\ufe0f\", \"ukraine\\ufe0f\", \"ukrainian\", \"up\", \"video\", \"war\", \"war\", \"was\", \"we\", \"we\", \"welcome\", \"weserveandprotect\", \"weserveandprotect\", \"will\", \"will\", \"with\", \"with\", \"wordle\", \"working\", \"working\", \"you\", \"you\", \"\\u2b1c\\u2b1c\\u2b1c\\u2b1c\\u2b1c\", \"\\ud83d\\udfe9\\ud83d\\udfe9\\ud83d\\udfe9\\ud83d\\udfe9\\ud83d\\udfe9\"]}, \"R\": 30, \"lambda.step\": 0.01, \"plot.opts\": {\"xlab\": \"PC1\", \"ylab\": \"PC2\"}, \"topic.order\": [2, 1, 3]};\n",
       "\n",
       "function LDAvis_load_lib(url, callback){\n",
       "  var s = document.createElement('script');\n",
       "  s.src = url;\n",
       "  s.async = true;\n",
       "  s.onreadystatechange = s.onload = callback;\n",
       "  s.onerror = function(){console.warn(\"failed to load library \" + url);};\n",
       "  document.getElementsByTagName(\"head\")[0].appendChild(s);\n",
       "}\n",
       "\n",
       "if(typeof(LDAvis) !== \"undefined\"){\n",
       "   // already loaded: just create the visualization\n",
       "   !function(LDAvis){\n",
       "       new LDAvis(\"#\" + \"ldavis_el179381402081741113125182812908\", ldavis_el179381402081741113125182812908_data);\n",
       "   }(LDAvis);\n",
       "}else if(typeof define === \"function\" && define.amd){\n",
       "   // require.js is available: use it to load d3/LDAvis\n",
       "   require.config({paths: {d3: \"https://d3js.org/d3.v5\"}});\n",
       "   require([\"d3\"], function(d3){\n",
       "      window.d3 = d3;\n",
       "      LDAvis_load_lib(\"https://cdn.jsdelivr.net/gh/bmabey/pyLDAvis@3.3.1/pyLDAvis/js/ldavis.v3.0.0.js\", function(){\n",
       "        new LDAvis(\"#\" + \"ldavis_el179381402081741113125182812908\", ldavis_el179381402081741113125182812908_data);\n",
       "      });\n",
       "    });\n",
       "}else{\n",
       "    // require.js not available: dynamically load d3 & LDAvis\n",
       "    LDAvis_load_lib(\"https://d3js.org/d3.v5.js\", function(){\n",
       "         LDAvis_load_lib(\"https://cdn.jsdelivr.net/gh/bmabey/pyLDAvis@3.3.1/pyLDAvis/js/ldavis.v3.0.0.js\", function(){\n",
       "                 new LDAvis(\"#\" + \"ldavis_el179381402081741113125182812908\", ldavis_el179381402081741113125182812908_data);\n",
       "            })\n",
       "         });\n",
       "}\n",
       "</script>"
      ],
      "text/plain": [
       "PreparedData(topic_coordinates=              x         y  topics  cluster       Freq\n",
       "topic                                                \n",
       "1      0.272686  0.011589       1        1  75.029526\n",
       "0     -0.120399 -0.154456       2        1  14.685263\n",
       "2     -0.152286  0.142866       3        1  10.285211, topic_info=               Term         Freq        Total Category  logprob  loglift\n",
       "17              the  9256.000000  9256.000000  Default  30.0000  30.0000\n",
       "11               rt  7935.000000  7935.000000  Default  29.0000  29.0000\n",
       "38               to  6136.000000  6136.000000  Default  28.0000  28.0000\n",
       "125              we   776.000000   776.000000  Default  27.0000  27.0000\n",
       "9                of  4832.000000  4832.000000  Default  26.0000  26.0000\n",
       "...             ...          ...          ...      ...      ...      ...\n",
       "18134           sri   146.913529   159.183349   Topic3  -5.2892   2.1943\n",
       "9321   borisjohnson    65.379319    68.184985   Topic3  -6.0989   2.2324\n",
       "25350   rahulgandhi    57.897956    59.959551   Topic3  -6.2204   2.2395\n",
       "45167       shayari    57.926456    63.114028   Topic3  -6.2199   2.1887\n",
       "2856       minister    91.159035   157.572527   Topic3  -5.7665   1.7272\n",
       "\n",
       "[160 rows x 6 columns], token_table=       Topic      Freq          Term\n",
       "term                                \n",
       "46184      1  0.075649        9pcadg\n",
       "46184      2  0.922913        9pcadg\n",
       "1          1  0.998092             a\n",
       "1          2  0.001978             a\n",
       "25433      1  0.011520  abhishekaitc\n",
       "...      ...       ...           ...\n",
       "1459       2  0.954502       working\n",
       "40         1  0.970021           you\n",
       "40         2  0.030078           you\n",
       "28295      2  0.995562         ⬜⬜⬜⬜⬜\n",
       "9848       2  0.993816         🟩🟩🟩🟩🟩\n",
       "\n",
       "[210 rows x 3 columns], R=30, lambda_step=0.01, plot_opts={'xlab': 'PC1', 'ylab': 'PC2'}, topic_order=[2, 1, 3])"
      ]
     },
     "execution_count": 16,
     "metadata": {},
     "output_type": "execute_result"
    },
    {
     "name": "stderr",
     "output_type": "stream",
     "text": [
      "/home/hat/dev-env/10Acadamy/week_0/Twitter-Data-Analysis/.env/lib/python3.8/site-packages/past/builtins/misc.py:45: DeprecationWarning: the imp module is deprecated in favour of importlib; see the module's documentation for alternative uses\n",
      "  from imp import reload\n",
      "/home/hat/dev-env/10Acadamy/week_0/Twitter-Data-Analysis/.env/lib/python3.8/site-packages/past/builtins/misc.py:45: DeprecationWarning: the imp module is deprecated in favour of importlib; see the module's documentation for alternative uses\n",
      "  from imp import reload\n",
      "/home/hat/dev-env/10Acadamy/week_0/Twitter-Data-Analysis/.env/lib/python3.8/site-packages/past/builtins/misc.py:45: DeprecationWarning: the imp module is deprecated in favour of importlib; see the module's documentation for alternative uses\n",
      "  from imp import reload\n",
      "/home/hat/dev-env/10Acadamy/week_0/Twitter-Data-Analysis/.env/lib/python3.8/site-packages/past/builtins/misc.py:45: DeprecationWarning: the imp module is deprecated in favour of importlib; see the module's documentation for alternative uses\n",
      "  from imp import reload\n"
     ]
    }
   ],
   "source": [
    "import pyLDAvis.gensim_models as gensimvis\n",
    "import pickle \n",
    "import pyLDAvis\n",
    "# Visualize the topics\n",
    "pyLDAvis.enable_notebook()\n",
    "\n",
    "LDAvis_prepared = gensimvis.prepare(lda_model, corpus, id2word)\n",
    "LDAvis_prepared"
   ]
  },
  {
   "cell_type": "code",
   "execution_count": null,
   "id": "4d1c5785-6345-43e3-bd6e-bff64e731ae4",
   "metadata": {},
   "outputs": [],
   "source": []
  }
 ],
 "metadata": {
  "kernelspec": {
   "display_name": "Python 3 (ipykernel)",
   "language": "python",
   "name": "python3"
  },
  "language_info": {
   "codemirror_mode": {
    "name": "ipython",
    "version": 3
   },
   "file_extension": ".py",
   "mimetype": "text/x-python",
   "name": "python",
   "nbconvert_exporter": "python",
   "pygments_lexer": "ipython3",
   "version": "3.8.10"
  }
 },
 "nbformat": 4,
 "nbformat_minor": 5
}
